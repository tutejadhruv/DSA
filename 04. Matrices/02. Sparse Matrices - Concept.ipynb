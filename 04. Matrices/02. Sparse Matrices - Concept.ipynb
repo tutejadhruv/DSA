{
 "cells": [
  {
   "cell_type": "markdown",
   "metadata": {},
   "source": [
    "### Sparse Matrices"
   ]
  },
  {
   "cell_type": "markdown",
   "metadata": {},
   "source": [
    "We can use dataclasses that works like struct in C. \n",
    "\n",
    "Data classes are a relatively new feature that simplify class definitions for storing data. They automatically generate special methods like __init__() and __repr__() based on the class attributes."
   ]
  },
  {
   "cell_type": "code",
   "execution_count": 1,
   "metadata": {},
   "outputs": [],
   "source": [
    "from dataclasses import dataclass, field\n",
    "from typing import List"
   ]
  },
  {
   "cell_type": "markdown",
   "metadata": {},
   "source": [
    "**Coordinate List - Store Sparse Matrices**"
   ]
  },
  {
   "cell_type": "code",
   "execution_count": 2,
   "metadata": {},
   "outputs": [],
   "source": [
    "@dataclass\n",
    "class Element:\n",
    "    i: int = field(default=None) # Row number\n",
    "    j: int = field(default=None) # Column number\n",
    "    x: int = field(default=None) # Element\n",
    "\n",
    "@dataclass\n",
    "class Sparse:\n",
    "    m: int = field(default=None) # No. of rows\n",
    "    n: int = field(default=None) # No. of columns\n",
    "    num: int = field(default=None) # No. of non-zero elements\n",
    "    elements: List[Element] = field(default=list) # Explicitly indicating a list of Element instances"
   ]
  },
  {
   "cell_type": "code",
   "execution_count": 13,
   "metadata": {},
   "outputs": [],
   "source": [
    "def create():\n",
    "    m = int(input(\"Enter the number of rows\"))\n",
    "    n = int(input(\"Enter the number of columns\"))\n",
    "    num = int(input(\"Enter the number of non-zero elements\"))\n",
    "    elements = []\n",
    "    for i in range(num):\n",
    "        row = int(input(\"Enter row index for element: \"))\n",
    "        col = int(input(\"Enter column index for element: \"))\n",
    "        value = int(input(\"Enter the value for element: \"))\n",
    "        element = Element(i=row, j=col, x=value)\n",
    "        elements.append(element)\n",
    "\n",
    "    sparse_matrix = Sparse(m=m, n=n, num=num, elements=elements)\n",
    "    return sparse_matrix\n",
    "\n",
    "def display(sparse_matrix):\n",
    "    k = 0\n",
    "    for i in range(sparse_matrix.m):\n",
    "        for j in range(sparse_matrix.n):\n",
    "            if k < len(sparse_matrix.elements) and i == sparse_matrix.elements[k].i and j == sparse_matrix.elements[k].j:\n",
    "                print(sparse_matrix.elements[k].x, end=\" \")\n",
    "                k += 1\n",
    "            else:\n",
    "                print(\"0\", end=\" \")\n",
    "        print(\"\\n\")\n",
    "\n",
    "def add(s1, s2):\n",
    "    if s1.m !=  s2.m or s1.n != s2.n: return 0\n",
    "    elements = []\n",
    "    idx, jdx = 0, 0\n",
    "    while idx < s1.num and jdx < s2.num:\n",
    "        if s1.elements[idx].i < s2.elements[jdx].i:\n",
    "            element = Element(s1.elements[idx].i, s1.elements[idx].j, s1.elements[idx].x)\n",
    "            idx += 1\n",
    "        elif s1.elements[idx].i > s2.elements[jdx].i:\n",
    "            element = Element(s2.elements[jdx].i, s2.elements[jdx].j, s2.elements[jdx].x)\n",
    "            jdx += 1\n",
    "        else:\n",
    "            if s1.elements[idx].j < s2.elements[jdx].j:\n",
    "                element = Element(s1.elements[idx].i, s1.elements[idx].j, s1.elements[idx].x)\n",
    "                idx += 1\n",
    "            elif s1.elements[idx].j > s2.elements[jdx].j:\n",
    "                element = Element(s2.elements[idx].i, s2.elements[idx].j, s2.elements[idx].x)\n",
    "                jdx += 1\n",
    "            else:\n",
    "                element = Element(s1.elements[idx].i, s1.elements[idx].j, s1.elements[idx].x + s2.elements[idx].x)\n",
    "                idx += 1\n",
    "                jdx += 1\n",
    "\n",
    "        elements.append(element)\n",
    "    \n",
    "    for idx in range(idx, s1.num):\n",
    "        element = Element(s1.elements[idx].i, s1.elements[idx].j, s1.elements[idx].x)\n",
    "        elements.append(element)\n",
    "\n",
    "    for jdx in range(jdx, s2.num):\n",
    "        element = Element(s2.elements[jdx].i, s2.elements[jdx].j, s2.elements[jdx].x)\n",
    "        elements.append(element)\n",
    "\n",
    "    return Sparse(s1.m, s1.n, len(elements), elements)"
   ]
  },
  {
   "cell_type": "code",
   "execution_count": 8,
   "metadata": {},
   "outputs": [],
   "source": [
    "sparse_matrix = create()"
   ]
  },
  {
   "cell_type": "code",
   "execution_count": 9,
   "metadata": {},
   "outputs": [
    {
     "name": "stdout",
     "output_type": "stream",
     "text": [
      "1 0 0 0 0 \n",
      "\n",
      "1 0 0 0 0 \n",
      "\n",
      "1 0 0 0 0 \n",
      "\n",
      "1 0 0 0 0 \n",
      "\n",
      "1 0 0 0 0 \n",
      "\n"
     ]
    }
   ],
   "source": [
    "display(sparse_matrix)"
   ]
  },
  {
   "cell_type": "code",
   "execution_count": 15,
   "metadata": {},
   "outputs": [],
   "source": [
    "s1 = create()"
   ]
  },
  {
   "cell_type": "code",
   "execution_count": 16,
   "metadata": {},
   "outputs": [
    {
     "name": "stdout",
     "output_type": "stream",
     "text": [
      "1 0 0 0 0 \n",
      "\n",
      "0 1 0 0 0 \n",
      "\n",
      "0 0 1 0 0 \n",
      "\n",
      "0 0 0 1 0 \n",
      "\n",
      "0 0 0 0 1 \n",
      "\n"
     ]
    }
   ],
   "source": [
    "display(s1)"
   ]
  },
  {
   "cell_type": "code",
   "execution_count": 19,
   "metadata": {},
   "outputs": [],
   "source": [
    "s2 = create()"
   ]
  },
  {
   "cell_type": "code",
   "execution_count": 20,
   "metadata": {},
   "outputs": [
    {
     "name": "stdout",
     "output_type": "stream",
     "text": [
      "2 0 0 0 0 \n",
      "\n",
      "2 0 0 0 0 \n",
      "\n",
      "2 0 0 0 0 \n",
      "\n",
      "2 0 0 0 0 \n",
      "\n",
      "2 0 0 0 0 \n",
      "\n"
     ]
    }
   ],
   "source": [
    "display(s2)"
   ]
  },
  {
   "cell_type": "code",
   "execution_count": 21,
   "metadata": {},
   "outputs": [],
   "source": [
    "s3 = add(s1, s2)"
   ]
  },
  {
   "cell_type": "code",
   "execution_count": 22,
   "metadata": {},
   "outputs": [
    {
     "name": "stdout",
     "output_type": "stream",
     "text": [
      "3 0 0 0 0 \n",
      "\n",
      "2 1 0 0 0 \n",
      "\n",
      "2 0 1 0 0 \n",
      "\n",
      "2 0 0 1 0 \n",
      "\n",
      "2 0 0 0 1 \n",
      "\n"
     ]
    }
   ],
   "source": [
    "display(s3)"
   ]
  },
  {
   "cell_type": "code",
   "execution_count": 23,
   "metadata": {},
   "outputs": [],
   "source": [
    "s1 = create()"
   ]
  },
  {
   "cell_type": "code",
   "execution_count": 24,
   "metadata": {},
   "outputs": [],
   "source": [
    "s2 = create()"
   ]
  },
  {
   "cell_type": "code",
   "execution_count": 26,
   "metadata": {},
   "outputs": [
    {
     "name": "stdout",
     "output_type": "stream",
     "text": [
      "6 0 0 0 0 \n",
      "\n",
      "0 6 0 0 0 \n",
      "\n",
      "0 0 6 0 0 \n",
      "\n",
      "0 0 0 6 0 \n",
      "\n",
      "0 0 0 0 6 \n",
      "\n"
     ]
    }
   ],
   "source": [
    "display(add(s1, s2))"
   ]
  },
  {
   "cell_type": "markdown",
   "metadata": {},
   "source": [
    "**Polynomial Representation**"
   ]
  },
  {
   "cell_type": "code",
   "execution_count": 27,
   "metadata": {},
   "outputs": [],
   "source": [
    "@dataclass\n",
    "class Term:\n",
    "    coeff: int = field(default=None) # coefficient\n",
    "    exp: int = field(default=None) # power/ exponent\n",
    "\n",
    "@dataclass\n",
    "class Poly:\n",
    "    num: int = field(default=None) # No. of non-zero elements\n",
    "    terms: List[Term] = field(default=list) # Explicitly indicating a list of Term instances"
   ]
  },
  {
   "cell_type": "code",
   "execution_count": 74,
   "metadata": {},
   "outputs": [],
   "source": [
    "def create_poly():\n",
    "    num = int(input(\"Enter the number of non-zero elements\"))\n",
    "    terms = []\n",
    "    for i in range(num):\n",
    "        coeff, exp = input(\"Enter coeff and exp with space\").split(\" \")\n",
    "        terms.append(Term(coeff=int(coeff), exp=int(exp)))\n",
    "    return  Poly(num, terms)\n",
    "\n",
    "def display(poly):\n",
    "    equation = \"\"\n",
    "    for i in range(poly.num):\n",
    "        equation += str(poly.terms[i].coeff) + \"x^\" + str(poly.terms[i].exp) + \" + \"\n",
    "    return equation[:-3]\n",
    "\n",
    "def add_poly(poly_1, poly_2):\n",
    "    i, j = 0, 0\n",
    "    total = []\n",
    "    while i<poly_1.num and j<poly_2.num:\n",
    "        if poly_1.terms[i].exp > poly_2.terms[j].exp:\n",
    "            total.append(poly_1.terms[i])\n",
    "            i += 1\n",
    "        elif poly_1.terms[i].exp < poly_2.terms[j].exp:\n",
    "            total.append(poly_2.terms[j])\n",
    "            j += 1\n",
    "        else:\n",
    "            total.append(Term(poly_1.terms[i].coeff + poly_2.terms[j].coeff, poly_1.terms[i].exp))\n",
    "            i += 1\n",
    "            j += 1\n",
    "\n",
    "    for i in range(i, poly_1.num):\n",
    "        total.append(poly_1.terms[i])\n",
    "\n",
    "    for j in range(j, poly_2.num):\n",
    "        total.append(poly_2.terms[j])\n",
    "\n",
    "    num = len(total)\n",
    "\n",
    "    return Poly(num, total)\n",
    "            \n",
    "        "
   ]
  },
  {
   "cell_type": "code",
   "execution_count": 59,
   "metadata": {},
   "outputs": [],
   "source": [
    "poly_1 = create_poly()"
   ]
  },
  {
   "cell_type": "code",
   "execution_count": 60,
   "metadata": {},
   "outputs": [
    {
     "data": {
      "text/plain": [
       "'1x^5 + 1x^3 + 1x^1'"
      ]
     },
     "execution_count": 60,
     "metadata": {},
     "output_type": "execute_result"
    }
   ],
   "source": [
    "display(poly_1)"
   ]
  },
  {
   "cell_type": "code",
   "execution_count": 61,
   "metadata": {},
   "outputs": [],
   "source": [
    "poly_2 = create_poly()"
   ]
  },
  {
   "cell_type": "code",
   "execution_count": 62,
   "metadata": {},
   "outputs": [
    {
     "data": {
      "text/plain": [
       "'1x^4 + 1x^2 + 1x^0'"
      ]
     },
     "execution_count": 62,
     "metadata": {},
     "output_type": "execute_result"
    }
   ],
   "source": [
    "display(poly_2)"
   ]
  },
  {
   "cell_type": "code",
   "execution_count": 64,
   "metadata": {},
   "outputs": [
    {
     "data": {
      "text/plain": [
       "'1x^5 + 1x^4 + 1x^3 + 1x^2 + 1x^1 + 1x^0'"
      ]
     },
     "execution_count": 64,
     "metadata": {},
     "output_type": "execute_result"
    }
   ],
   "source": [
    "display(add_poly(poly_1, poly_2))"
   ]
  },
  {
   "cell_type": "code",
   "execution_count": 72,
   "metadata": {},
   "outputs": [],
   "source": [
    "poly_1 = create_poly()"
   ]
  },
  {
   "cell_type": "code",
   "execution_count": 75,
   "metadata": {},
   "outputs": [
    {
     "data": {
      "text/plain": [
       "'1x^3 + 1x^2 + 1x^1'"
      ]
     },
     "execution_count": 75,
     "metadata": {},
     "output_type": "execute_result"
    }
   ],
   "source": [
    "display(poly_1)"
   ]
  },
  {
   "cell_type": "code",
   "execution_count": 76,
   "metadata": {},
   "outputs": [],
   "source": [
    "poly_2 = create_poly()"
   ]
  },
  {
   "cell_type": "code",
   "execution_count": 77,
   "metadata": {},
   "outputs": [
    {
     "data": {
      "text/plain": [
       "'5x^2 + 5x^1 + 5x^0'"
      ]
     },
     "execution_count": 77,
     "metadata": {},
     "output_type": "execute_result"
    }
   ],
   "source": [
    "display(poly_2)"
   ]
  },
  {
   "cell_type": "code",
   "execution_count": 78,
   "metadata": {},
   "outputs": [
    {
     "data": {
      "text/plain": [
       "'1x^3 + 6x^2 + 6x^1 + 5x^0'"
      ]
     },
     "execution_count": 78,
     "metadata": {},
     "output_type": "execute_result"
    }
   ],
   "source": [
    "display(add_poly(poly_1, poly_2))"
   ]
  },
  {
   "cell_type": "code",
   "execution_count": null,
   "metadata": {},
   "outputs": [],
   "source": []
  }
 ],
 "metadata": {
  "kernelspec": {
   "display_name": "Python 3",
   "language": "python",
   "name": "python3"
  },
  "language_info": {
   "codemirror_mode": {
    "name": "ipython",
    "version": 3
   },
   "file_extension": ".py",
   "mimetype": "text/x-python",
   "name": "python",
   "nbconvert_exporter": "python",
   "pygments_lexer": "ipython3",
   "version": "3.9.6"
  }
 },
 "nbformat": 4,
 "nbformat_minor": 2
}
