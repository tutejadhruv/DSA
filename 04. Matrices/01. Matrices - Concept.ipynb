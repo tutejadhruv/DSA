{
 "cells": [
  {
   "cell_type": "markdown",
   "metadata": {},
   "source": [
    "### Matrices Concept"
   ]
  },
  {
   "cell_type": "markdown",
   "metadata": {},
   "source": [
    "**Diagonal Matrix**"
   ]
  },
  {
   "cell_type": "code",
   "execution_count": 9,
   "metadata": {},
   "outputs": [],
   "source": [
    "def matrix(n):\n",
    "    return [None] * n\n",
    "\n",
    "def set(a, i, j, x):\n",
    "    if i == j:\n",
    "        a[i-1] = x\n",
    "\n",
    "def get(a, i, j):\n",
    "    if i == j:\n",
    "        return a[i-1]\n",
    "    return 0 \n",
    "\n",
    "def display(m):\n",
    "    n = len(m)\n",
    "    for i in range(1, n+1):\n",
    "        for j in range(1, n+1):\n",
    "            if i == j:\n",
    "                print(m[i-1], end=\" \")\n",
    "            else:\n",
    "                print(0, end=\" \")\n",
    "        print(\"\\n\")"
   ]
  },
  {
   "cell_type": "code",
   "execution_count": 29,
   "metadata": {},
   "outputs": [
    {
     "data": {
      "text/plain": [
       "[None, None, None, None]"
      ]
     },
     "execution_count": 29,
     "metadata": {},
     "output_type": "execute_result"
    }
   ],
   "source": [
    "m = matrix(4)\n",
    "m"
   ]
  },
  {
   "cell_type": "code",
   "execution_count": 30,
   "metadata": {},
   "outputs": [],
   "source": [
    "set(m, 1, 1, 5)\n",
    "set(m, 2, 2, 8)\n",
    "set(m, 3, 3, 9)\n",
    "set(m, 4, 4, 12)"
   ]
  },
  {
   "cell_type": "code",
   "execution_count": 31,
   "metadata": {},
   "outputs": [
    {
     "name": "stdout",
     "output_type": "stream",
     "text": [
      "5 0 0 0 \n",
      "\n",
      "0 8 0 0 \n",
      "\n",
      "0 0 9 0 \n",
      "\n",
      "0 0 0 12 \n",
      "\n"
     ]
    }
   ],
   "source": [
    "display(m)"
   ]
  },
  {
   "cell_type": "code",
   "execution_count": 32,
   "metadata": {},
   "outputs": [
    {
     "data": {
      "text/plain": [
       "8"
      ]
     },
     "execution_count": 32,
     "metadata": {},
     "output_type": "execute_result"
    }
   ],
   "source": [
    "get(m, 2, 2)"
   ]
  },
  {
   "cell_type": "markdown",
   "metadata": {},
   "source": [
    "**Lower Triangular Matrix**"
   ]
  },
  {
   "cell_type": "code",
   "execution_count": 21,
   "metadata": {},
   "outputs": [],
   "source": [
    "def matrix_lower(n):\n",
    "    return [None] * (n*(n+1)//2)\n",
    "\n",
    "def set(m, i, j, x, n):\n",
    "    if i >= j:\n",
    "        # Row Major\n",
    "        # m[(i*(i-1)//2)+j-1] = x \n",
    "\n",
    "        # Column Major\n",
    "        m[(n*(j-1) - (j-2)*(j-1)//2) + i - j] = x\n",
    "\n",
    "def get(m, i, j, n):\n",
    "    if i >= j:\n",
    "        # Row Major \n",
    "        # return m[(i*(i-1)//2)+j-1]\n",
    "        # Column Major\n",
    "        return m[(n*(j-1) - (j-2)*(j-1)//2) + i - j]\n",
    "    else:\n",
    "        return 0\n",
    "    \n",
    "def display(m, n):\n",
    "    for i in range(1, n+1):\n",
    "        for j in range(1, n+1):\n",
    "            if i>=j:\n",
    "                # Row Major\n",
    "                # print(m[(i*(i-1)//2)+j-1], end=\" \")\n",
    "                # Column Major\n",
    "                print(m[(n*(j-1) - (j-2)*(j-1)//2) + i - j], end=\" \")\n",
    "            else:\n",
    "                print(0, end=\" \")\n",
    "        print(\"\\n\")"
   ]
  },
  {
   "cell_type": "code",
   "execution_count": 22,
   "metadata": {},
   "outputs": [
    {
     "name": "stdout",
     "output_type": "stream",
     "text": [
      "Enter all elements\n"
     ]
    }
   ],
   "source": [
    "n = int(input(\"Enter Dimension\"))\n",
    "m = matrix_lower(n)\n",
    "\n",
    "print(\"Enter all elements\")\n",
    "for i in range(1, n+1):\n",
    "    for j in range(1, n+1):\n",
    "        x = int(input())\n",
    "        set(m, i, j, x, n)"
   ]
  },
  {
   "cell_type": "code",
   "execution_count": 23,
   "metadata": {},
   "outputs": [
    {
     "name": "stdout",
     "output_type": "stream",
     "text": [
      "2 0 0 0 \n",
      "\n",
      "1 3 0 0 \n",
      "\n",
      "1 2 3 0 \n",
      "\n",
      "1 2 3 4 \n",
      "\n"
     ]
    }
   ],
   "source": [
    "display(m, n)"
   ]
  },
  {
   "cell_type": "markdown",
   "metadata": {},
   "source": [
    "**Upper Triangular Matrix**"
   ]
  },
  {
   "cell_type": "code",
   "execution_count": 34,
   "metadata": {},
   "outputs": [],
   "source": [
    "def matrix_upper(n):\n",
    "    return [None] * (n*(n+1)//2)\n",
    "\n",
    "def set(m, i, j, x, n):\n",
    "    if i <= j:\n",
    "        # Column Major\n",
    "        m[(j*(j-1)//2)+i-1] = x \n",
    "\n",
    "        # Row Major\n",
    "        # m[(n*(i-1) - (i-2)*(i-1)//2) + j - i] = x\n",
    "\n",
    "def get(m, i, j, n):\n",
    "    if i <= j:\n",
    "        # Column Major \n",
    "        return m[(j*(j-1)//2)+i-1]\n",
    "    \n",
    "        # Row Major\n",
    "        # return m[(n*(i-1) - (i-2)*(i-1)//2) + j - i]\n",
    "    else:\n",
    "        return 0\n",
    "    \n",
    "def display(m, n):\n",
    "    for i in range(1, n+1):\n",
    "        for j in range(1, n+1):\n",
    "            if i<=j:\n",
    "                # Column Major\n",
    "                print(m[(j*(j-1)//2)+i-1], end=\" \")\n",
    "                \n",
    "                # Row Major\n",
    "                # print(m[(n*(i-1) - (i-2)*(i-1)//2) + j - i], end=\" \")\n",
    "            else:\n",
    "                print(0, end=\" \")\n",
    "        print(\"\\n\")"
   ]
  },
  {
   "cell_type": "code",
   "execution_count": 35,
   "metadata": {},
   "outputs": [
    {
     "name": "stdout",
     "output_type": "stream",
     "text": [
      "Enter all elements\n"
     ]
    }
   ],
   "source": [
    "n = int(input(\"Enter Dimension\"))\n",
    "m = matrix_upper(n)\n",
    "\n",
    "print(\"Enter all elements\")\n",
    "for i in range(1, n+1):\n",
    "    for j in range(1, n+1):\n",
    "        x = int(input())\n",
    "        set(m, i, j, x, n)"
   ]
  },
  {
   "cell_type": "code",
   "execution_count": 36,
   "metadata": {},
   "outputs": [
    {
     "name": "stdout",
     "output_type": "stream",
     "text": [
      "1 2 3 4 \n",
      "\n",
      "0 1 2 3 \n",
      "\n",
      "0 0 1 3 \n",
      "\n",
      "0 0 0 2 \n",
      "\n"
     ]
    }
   ],
   "source": [
    "display(m, n)"
   ]
  }
 ],
 "metadata": {
  "kernelspec": {
   "display_name": "Python 3",
   "language": "python",
   "name": "python3"
  },
  "language_info": {
   "codemirror_mode": {
    "name": "ipython",
    "version": 3
   },
   "file_extension": ".py",
   "mimetype": "text/x-python",
   "name": "python",
   "nbconvert_exporter": "python",
   "pygments_lexer": "ipython3",
   "version": "3.9.6"
  }
 },
 "nbformat": 4,
 "nbformat_minor": 2
}
