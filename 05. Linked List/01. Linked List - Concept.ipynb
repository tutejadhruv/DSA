{
 "cells": [
  {
   "cell_type": "markdown",
   "metadata": {},
   "source": [
    "### Linked List Concepts"
   ]
  },
  {
   "cell_type": "markdown",
   "metadata": {},
   "source": [
    "**Creating a Node**"
   ]
  },
  {
   "cell_type": "code",
   "execution_count": 1,
   "metadata": {},
   "outputs": [],
   "source": [
    "# Without dataclasses\n",
    "class ListNode:\n",
    "    def __init__(self, value, next = None):\n",
    "        self.value = value\n",
    "        self.next = next"
   ]
  },
  {
   "cell_type": "code",
   "execution_count": 2,
   "metadata": {},
   "outputs": [],
   "source": [
    "node = ListNode(50, 200)"
   ]
  },
  {
   "cell_type": "code",
   "execution_count": null,
   "metadata": {},
   "outputs": [],
   "source": [
    "# With dataclasses\n",
    "from dataclasses import dataclass\n",
    "from typing import Optional\n",
    "\n",
    "@dataclass\n",
    "class ListNode:\n",
    "    value: Optional['int'] = 0\n",
    "    next: Optional['ListNode'] = None\n"
   ]
  },
  {
   "cell_type": "code",
   "execution_count": 7,
   "metadata": {},
   "outputs": [],
   "source": [
    "node = ListNode(50, 200)"
   ]
  },
  {
   "cell_type": "markdown",
   "metadata": {},
   "source": [
    "**Creating - Linked List**"
   ]
  },
  {
   "cell_type": "code",
   "execution_count": 17,
   "metadata": {},
   "outputs": [],
   "source": [
    "def create_linked_list(array):\n",
    "    first = ListNode(array[0], None)\n",
    "    last = first\n",
    "    \n",
    "    for i in array[1:]:\n",
    "        t = ListNode(i, None)\n",
    "        last.next = t\n",
    "        last = t\n",
    "    \n",
    "    return first"
   ]
  },
  {
   "cell_type": "markdown",
   "metadata": {},
   "source": [
    "**Display - Linked List**"
   ]
  },
  {
   "cell_type": "code",
   "execution_count": 24,
   "metadata": {},
   "outputs": [],
   "source": [
    "def display_linked_list(p):\n",
    "    while p != None:\n",
    "        print(p.value)\n",
    "        p = p.next"
   ]
  },
  {
   "cell_type": "code",
   "execution_count": 25,
   "metadata": {},
   "outputs": [
    {
     "name": "stdout",
     "output_type": "stream",
     "text": [
      "3\n",
      "5\n",
      "7\n",
      "10\n",
      "15\n"
     ]
    }
   ],
   "source": [
    "arr = [3, 5, 7, 10, 15]\n",
    "first = create_linked_list(arr)\n",
    "display_linked_list(first)"
   ]
  },
  {
   "cell_type": "markdown",
   "metadata": {},
   "source": [
    "**Display Linked List - Recursion**"
   ]
  },
  {
   "cell_type": "code",
   "execution_count": 26,
   "metadata": {},
   "outputs": [],
   "source": [
    "def display_ll_recursion(first):\n",
    "    if first != None:\n",
    "        print(first.value)\n",
    "        display_ll_recursion(first.next)\n",
    "    \n",
    "    return"
   ]
  },
  {
   "cell_type": "code",
   "execution_count": 27,
   "metadata": {},
   "outputs": [
    {
     "name": "stdout",
     "output_type": "stream",
     "text": [
      "3\n",
      "5\n",
      "7\n",
      "10\n",
      "15\n"
     ]
    }
   ],
   "source": [
    "arr = [3, 5, 7, 10, 15]\n",
    "first = create_linked_list(arr)\n",
    "display_ll_recursion(first)"
   ]
  },
  {
   "cell_type": "markdown",
   "metadata": {},
   "source": [
    "**Display Linked List - Reverse (Recursion)**"
   ]
  },
  {
   "cell_type": "code",
   "execution_count": 28,
   "metadata": {},
   "outputs": [],
   "source": [
    "def display_ll_reverse_recursion(first):\n",
    "    if first != None:\n",
    "        display_ll_reverse_recursion(first.next)\n",
    "        print(first.value)\n",
    "\n",
    "    return"
   ]
  },
  {
   "cell_type": "code",
   "execution_count": 29,
   "metadata": {},
   "outputs": [
    {
     "name": "stdout",
     "output_type": "stream",
     "text": [
      "15\n",
      "10\n",
      "7\n",
      "5\n",
      "3\n"
     ]
    }
   ],
   "source": [
    "arr = [3, 5, 7, 10, 15]\n",
    "first = create_linked_list(arr)\n",
    "display_ll_reverse_recursion(first)"
   ]
  },
  {
   "cell_type": "markdown",
   "metadata": {},
   "source": [
    "**Count no. of nodes in Linked List**"
   ]
  },
  {
   "cell_type": "code",
   "execution_count": 30,
   "metadata": {},
   "outputs": [],
   "source": [
    "# Loop Approach ~ Time -> O(n)/ Space -> O(1)\n",
    "def count_linked_list(p):\n",
    "    length = 0\n",
    "    while p != None:\n",
    "        length += 1\n",
    "        p = p.next\n",
    "\n",
    "    return length"
   ]
  },
  {
   "cell_type": "code",
   "execution_count": 32,
   "metadata": {},
   "outputs": [
    {
     "data": {
      "text/plain": [
       "8"
      ]
     },
     "execution_count": 32,
     "metadata": {},
     "output_type": "execute_result"
    }
   ],
   "source": [
    "arr = [3, 5, 7, 10, 15, 8, 12, 20]\n",
    "first = create_linked_list(arr)\n",
    "p = first\n",
    "count_linked_list(p)"
   ]
  },
  {
   "cell_type": "code",
   "execution_count": 33,
   "metadata": {},
   "outputs": [],
   "source": [
    "# Recursion Approach ~ Time -> O(n)/ Space -> O(n)\n",
    "def count_linked_list_recursion(p):\n",
    "    if p == None:\n",
    "        return 0\n",
    "    else:\n",
    "        return count_linked_list_recursion(p.next) + 1"
   ]
  },
  {
   "cell_type": "code",
   "execution_count": 34,
   "metadata": {},
   "outputs": [
    {
     "data": {
      "text/plain": [
       "8"
      ]
     },
     "execution_count": 34,
     "metadata": {},
     "output_type": "execute_result"
    }
   ],
   "source": [
    "p = first\n",
    "count_linked_list_recursion(p)"
   ]
  },
  {
   "cell_type": "markdown",
   "metadata": {},
   "source": [
    "**Sum of node values in Linked List**"
   ]
  },
  {
   "cell_type": "code",
   "execution_count": 35,
   "metadata": {},
   "outputs": [],
   "source": [
    "# Loop Approach ~ Time -> O(n)/ Space -> O(1)\n",
    "def sum_linked_list(p):\n",
    "    total = 0\n",
    "    while p != None:\n",
    "        total += p.value\n",
    "        p = p.next\n",
    "\n",
    "    return total"
   ]
  },
  {
   "cell_type": "code",
   "execution_count": 36,
   "metadata": {},
   "outputs": [
    {
     "data": {
      "text/plain": [
       "80"
      ]
     },
     "execution_count": 36,
     "metadata": {},
     "output_type": "execute_result"
    }
   ],
   "source": [
    "p = first\n",
    "sum_linked_list(p)"
   ]
  },
  {
   "cell_type": "code",
   "execution_count": 37,
   "metadata": {},
   "outputs": [],
   "source": [
    "# Recursion Approach ~ Time -> O(n)/ Space -> O(n)\n",
    "def sum_linked_list_recursion(p):\n",
    "    if p == None:\n",
    "        return 0\n",
    "    else:\n",
    "        return sum_linked_list_recursion(p.next) + p.value"
   ]
  },
  {
   "cell_type": "code",
   "execution_count": 39,
   "metadata": {},
   "outputs": [
    {
     "data": {
      "text/plain": [
       "80"
      ]
     },
     "execution_count": 39,
     "metadata": {},
     "output_type": "execute_result"
    }
   ],
   "source": [
    "p = first\n",
    "sum_linked_list_recursion(p)"
   ]
  },
  {
   "cell_type": "code",
   "execution_count": null,
   "metadata": {},
   "outputs": [],
   "source": []
  }
 ],
 "metadata": {
  "kernelspec": {
   "display_name": "Python 3",
   "language": "python",
   "name": "python3"
  },
  "language_info": {
   "codemirror_mode": {
    "name": "ipython",
    "version": 3
   },
   "file_extension": ".py",
   "mimetype": "text/x-python",
   "name": "python",
   "nbconvert_exporter": "python",
   "pygments_lexer": "ipython3",
   "version": "3.9.6"
  }
 },
 "nbformat": 4,
 "nbformat_minor": 2
}
