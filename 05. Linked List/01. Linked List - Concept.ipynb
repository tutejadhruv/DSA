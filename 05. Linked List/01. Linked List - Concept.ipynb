{
 "cells": [
  {
   "cell_type": "markdown",
   "metadata": {},
   "source": [
    "### Linked List Concepts"
   ]
  },
  {
   "cell_type": "markdown",
   "metadata": {},
   "source": [
    "**Creating a Node**"
   ]
  },
  {
   "cell_type": "code",
   "execution_count": 1,
   "metadata": {},
   "outputs": [],
   "source": [
    "# Without dataclasses\n",
    "class ListNode:\n",
    "    def __init__(self, value, next = None):\n",
    "        self.value = value\n",
    "        self.next = next"
   ]
  },
  {
   "cell_type": "code",
   "execution_count": 2,
   "metadata": {},
   "outputs": [],
   "source": [
    "node = ListNode(50, 200)"
   ]
  },
  {
   "cell_type": "code",
   "execution_count": null,
   "metadata": {},
   "outputs": [],
   "source": [
    "# With dataclasses\n",
    "from dataclasses import dataclass\n",
    "from typing import Optional\n",
    "\n",
    "@dataclass\n",
    "class ListNode:\n",
    "    value: Optional['int'] = 0\n",
    "    next: Optional['ListNode'] = None\n"
   ]
  },
  {
   "cell_type": "code",
   "execution_count": 7,
   "metadata": {},
   "outputs": [],
   "source": [
    "node = ListNode(50, 200)"
   ]
  },
  {
   "cell_type": "markdown",
   "metadata": {},
   "source": [
    "**Creating - Linked List**"
   ]
  },
  {
   "cell_type": "code",
   "execution_count": 17,
   "metadata": {},
   "outputs": [],
   "source": [
    "def create_linked_list(array):\n",
    "    first = ListNode(array[0], None)\n",
    "    last = first\n",
    "    \n",
    "    for i in array[1:]:\n",
    "        t = ListNode(i, None)\n",
    "        last.next = t\n",
    "        last = t\n",
    "    \n",
    "    return first"
   ]
  },
  {
   "cell_type": "markdown",
   "metadata": {},
   "source": [
    "**Display - Linked List**"
   ]
  },
  {
   "cell_type": "code",
   "execution_count": 24,
   "metadata": {},
   "outputs": [],
   "source": [
    "def display_linked_list(p):\n",
    "    while p != None:\n",
    "        print(p.value)\n",
    "        p = p.next"
   ]
  },
  {
   "cell_type": "code",
   "execution_count": 25,
   "metadata": {},
   "outputs": [
    {
     "name": "stdout",
     "output_type": "stream",
     "text": [
      "3\n",
      "5\n",
      "7\n",
      "10\n",
      "15\n"
     ]
    }
   ],
   "source": [
    "arr = [3, 5, 7, 10, 15]\n",
    "first = create_linked_list(arr)\n",
    "display_linked_list(first)"
   ]
  },
  {
   "cell_type": "markdown",
   "metadata": {},
   "source": [
    "**Display Linked List - Recursion**"
   ]
  },
  {
   "cell_type": "code",
   "execution_count": 26,
   "metadata": {},
   "outputs": [],
   "source": [
    "def display_ll_recursion(first):\n",
    "    if first != None:\n",
    "        print(first.value)\n",
    "        display_ll_recursion(first.next)\n",
    "    \n",
    "    return"
   ]
  },
  {
   "cell_type": "code",
   "execution_count": 27,
   "metadata": {},
   "outputs": [
    {
     "name": "stdout",
     "output_type": "stream",
     "text": [
      "3\n",
      "5\n",
      "7\n",
      "10\n",
      "15\n"
     ]
    }
   ],
   "source": [
    "arr = [3, 5, 7, 10, 15]\n",
    "first = create_linked_list(arr)\n",
    "display_ll_recursion(first)"
   ]
  },
  {
   "cell_type": "markdown",
   "metadata": {},
   "source": [
    "**Display Linked List - Reverse (Recursion)**"
   ]
  },
  {
   "cell_type": "code",
   "execution_count": 28,
   "metadata": {},
   "outputs": [],
   "source": [
    "def display_ll_reverse_recursion(first):\n",
    "    if first != None:\n",
    "        display_ll_reverse_recursion(first.next)\n",
    "        print(first.value)\n",
    "\n",
    "    return"
   ]
  },
  {
   "cell_type": "code",
   "execution_count": 29,
   "metadata": {},
   "outputs": [
    {
     "name": "stdout",
     "output_type": "stream",
     "text": [
      "15\n",
      "10\n",
      "7\n",
      "5\n",
      "3\n"
     ]
    }
   ],
   "source": [
    "arr = [3, 5, 7, 10, 15]\n",
    "first = create_linked_list(arr)\n",
    "display_ll_reverse_recursion(first)"
   ]
  },
  {
   "cell_type": "markdown",
   "metadata": {},
   "source": [
    "**Count no. of nodes in Linked List**"
   ]
  },
  {
   "cell_type": "code",
   "execution_count": 30,
   "metadata": {},
   "outputs": [],
   "source": [
    "# Loop Approach ~ Time -> O(n)/ Space -> O(1)\n",
    "def count_linked_list(p):\n",
    "    length = 0\n",
    "    while p != None:\n",
    "        length += 1\n",
    "        p = p.next\n",
    "\n",
    "    return length"
   ]
  },
  {
   "cell_type": "code",
   "execution_count": null,
   "metadata": {},
   "outputs": [
    {
     "data": {
      "text/plain": [
       "8"
      ]
     },
     "execution_count": 32,
     "metadata": {},
     "output_type": "execute_result"
    }
   ],
   "source": [
    "arr = [3, 5, 7, 10, 15, 8, 12, 20]\n",
    "first = create_linked_list(arr)\n",
    "p = first\n",
    "count_linked_list(p)"
   ]
  },
  {
   "cell_type": "code",
   "execution_count": 33,
   "metadata": {},
   "outputs": [],
   "source": [
    "# Recursion Approach ~ Time -> O(n)/ Space -> O(n)\n",
    "def count_linked_list_recursion(p):\n",
    "    if p == None:\n",
    "        return 0\n",
    "    else:\n",
    "        return count_linked_list_recursion(p.next) + 1"
   ]
  },
  {
   "cell_type": "code",
   "execution_count": 34,
   "metadata": {},
   "outputs": [
    {
     "data": {
      "text/plain": [
       "8"
      ]
     },
     "execution_count": 34,
     "metadata": {},
     "output_type": "execute_result"
    }
   ],
   "source": [
    "p = first\n",
    "count_linked_list_recursion(p)"
   ]
  },
  {
   "cell_type": "markdown",
   "metadata": {},
   "source": [
    "**Sum of node values in Linked List**"
   ]
  },
  {
   "cell_type": "code",
   "execution_count": 35,
   "metadata": {},
   "outputs": [],
   "source": [
    "# Loop Approach ~ Time -> O(n)/ Space -> O(1)\n",
    "def sum_linked_list(p):\n",
    "    total = 0\n",
    "    while p != None:\n",
    "        total += p.value\n",
    "        p = p.next\n",
    "\n",
    "    return total"
   ]
  },
  {
   "cell_type": "code",
   "execution_count": 36,
   "metadata": {},
   "outputs": [
    {
     "data": {
      "text/plain": [
       "80"
      ]
     },
     "execution_count": 36,
     "metadata": {},
     "output_type": "execute_result"
    }
   ],
   "source": [
    "p = first\n",
    "sum_linked_list(p)"
   ]
  },
  {
   "cell_type": "code",
   "execution_count": 37,
   "metadata": {},
   "outputs": [],
   "source": [
    "# Recursion Approach ~ Time -> O(n)/ Space -> O(n)\n",
    "def sum_linked_list_recursion(p):\n",
    "    if p == None:\n",
    "        return 0\n",
    "    else:\n",
    "        return sum_linked_list_recursion(p.next) + p.value"
   ]
  },
  {
   "cell_type": "code",
   "execution_count": 39,
   "metadata": {},
   "outputs": [
    {
     "data": {
      "text/plain": [
       "80"
      ]
     },
     "execution_count": 39,
     "metadata": {},
     "output_type": "execute_result"
    }
   ],
   "source": [
    "p = first\n",
    "sum_linked_list_recursion(p)"
   ]
  },
  {
   "cell_type": "markdown",
   "metadata": {},
   "source": [
    "**Maximum Element from Linked List**"
   ]
  },
  {
   "cell_type": "code",
   "execution_count": null,
   "metadata": {},
   "outputs": [],
   "source": [
    "# Loop Approach ~ Time -> O(n)/ Space -> O(1)\n",
    "def max_linked_list(p):\n",
    "    maximum = float(\"-inf\")\n",
    "    while p:\n",
    "        if p.value > maximum: maximum = p.value\n",
    "        p = p.next\n",
    "    \n",
    "    return maximum"
   ]
  },
  {
   "cell_type": "code",
   "execution_count": 51,
   "metadata": {},
   "outputs": [
    {
     "name": "stdout",
     "output_type": "stream",
     "text": [
      "3\n",
      "5\n",
      "7\n",
      "10\n",
      "15\n",
      "8\n",
      "12\n"
     ]
    }
   ],
   "source": [
    "arr = [3, 5, 7, 10, 15, 8, 12]\n",
    "p = create_linked_list(arr)\n",
    "display_linked_list(p)"
   ]
  },
  {
   "cell_type": "code",
   "execution_count": 52,
   "metadata": {},
   "outputs": [
    {
     "data": {
      "text/plain": [
       "15"
      ]
     },
     "execution_count": 52,
     "metadata": {},
     "output_type": "execute_result"
    }
   ],
   "source": [
    "max_linked_list(p)"
   ]
  },
  {
   "cell_type": "code",
   "execution_count": 56,
   "metadata": {},
   "outputs": [],
   "source": [
    "# Recursion Approach ~ Time -> O(n)/ Space -> O(n)\n",
    "def max_linked_list_rec(p):\n",
    "    if p == None: return float(\"-inf\")\n",
    "\n",
    "    x = max_linked_list_rec(p.next)\n",
    "    if x > p.value: return x\n",
    "    else: return p.value"
   ]
  },
  {
   "cell_type": "code",
   "execution_count": 57,
   "metadata": {},
   "outputs": [
    {
     "name": "stdout",
     "output_type": "stream",
     "text": [
      "3\n",
      "5\n",
      "7\n",
      "10\n",
      "15\n",
      "8\n",
      "12\n"
     ]
    }
   ],
   "source": [
    "arr = [3, 5, 7, 10, 15, 8, 12]\n",
    "p = create_linked_list(arr)\n",
    "display_linked_list(p)"
   ]
  },
  {
   "cell_type": "code",
   "execution_count": 58,
   "metadata": {},
   "outputs": [
    {
     "data": {
      "text/plain": [
       "15"
      ]
     },
     "execution_count": 58,
     "metadata": {},
     "output_type": "execute_result"
    }
   ],
   "source": [
    "max_linked_list_rec(p)"
   ]
  },
  {
   "cell_type": "markdown",
   "metadata": {},
   "source": [
    "**Minimum Element in the linked list**"
   ]
  },
  {
   "cell_type": "code",
   "execution_count": 60,
   "metadata": {},
   "outputs": [],
   "source": [
    "# Loop Approach ~ Time -> O(n)/ Space -> O(1)\n",
    "def min_linked_list(p):\n",
    "    minimum = float(\"inf\")\n",
    "    while p:\n",
    "        if p.value < minimum: minimum = p.value\n",
    "        p = p.next\n",
    "    \n",
    "    return minimum"
   ]
  },
  {
   "cell_type": "code",
   "execution_count": 61,
   "metadata": {},
   "outputs": [
    {
     "data": {
      "text/plain": [
       "3"
      ]
     },
     "execution_count": 61,
     "metadata": {},
     "output_type": "execute_result"
    }
   ],
   "source": [
    "arr = [3, 5, 7, 10, 15, 8, 12]\n",
    "p = create_linked_list(arr)\n",
    "min_linked_list(p)"
   ]
  },
  {
   "cell_type": "code",
   "execution_count": 64,
   "metadata": {},
   "outputs": [],
   "source": [
    "# Recursion Approach ~ Time -> O(n)/ Space -> O(n)\n",
    "def min_linked_list_rec(p):\n",
    "    if p == None: return float(\"inf\")\n",
    "\n",
    "    minimum = min_linked_list_rec(p.next)\n",
    "    if minimum < p.value: return minimum\n",
    "    else: return p.value"
   ]
  },
  {
   "cell_type": "code",
   "execution_count": 65,
   "metadata": {},
   "outputs": [
    {
     "data": {
      "text/plain": [
       "3"
      ]
     },
     "execution_count": 65,
     "metadata": {},
     "output_type": "execute_result"
    }
   ],
   "source": [
    "arr = [3, 5, 7, 10, 15, 8, 12]\n",
    "p = create_linked_list(arr)\n",
    "min_linked_list_rec(p)"
   ]
  },
  {
   "cell_type": "markdown",
   "metadata": {},
   "source": [
    "**Search - Linked List**"
   ]
  },
  {
   "cell_type": "code",
   "execution_count": 72,
   "metadata": {},
   "outputs": [],
   "source": [
    "# Loop Approach ~ Time -> O(n)/ Space -> O(1)\n",
    "def search_linked_list(p, key):\n",
    "    while p != None:\n",
    "        if key == p.value:\n",
    "            return p\n",
    "        p = p.next\n",
    "    \n",
    "    return \"Not Found\""
   ]
  },
  {
   "cell_type": "code",
   "execution_count": 73,
   "metadata": {},
   "outputs": [
    {
     "data": {
      "text/plain": [
       "ListNode(value=8, next=ListNode(value=12, next=None))"
      ]
     },
     "execution_count": 73,
     "metadata": {},
     "output_type": "execute_result"
    }
   ],
   "source": [
    "arr = [3, 5, 7, 10, 15, 8, 12]\n",
    "p = create_linked_list(arr)\n",
    "search_linked_list(p, 8)"
   ]
  },
  {
   "cell_type": "code",
   "execution_count": 74,
   "metadata": {},
   "outputs": [
    {
     "data": {
      "text/plain": [
       "'Not Found'"
      ]
     },
     "execution_count": 74,
     "metadata": {},
     "output_type": "execute_result"
    }
   ],
   "source": [
    "search_linked_list(p, 17)"
   ]
  },
  {
   "cell_type": "code",
   "execution_count": 80,
   "metadata": {},
   "outputs": [],
   "source": [
    "# Recursion Approach ~ Time -> O(n)/ Space -> O(n)\n",
    "def search_linked_list_rec(p, key):\n",
    "    if p == None:\n",
    "        return \"Not Found\"\n",
    "    \n",
    "    if key == p.value:\n",
    "        return p\n",
    "    return search_linked_list_rec(p.next, key)\n",
    "    "
   ]
  },
  {
   "cell_type": "code",
   "execution_count": 81,
   "metadata": {},
   "outputs": [
    {
     "data": {
      "text/plain": [
       "ListNode(value=8, next=ListNode(value=12, next=None))"
      ]
     },
     "execution_count": 81,
     "metadata": {},
     "output_type": "execute_result"
    }
   ],
   "source": [
    "arr = [3, 5, 7, 10, 15, 8, 12]\n",
    "p = create_linked_list(arr)\n",
    "search_linked_list_rec(p, 8)"
   ]
  },
  {
   "cell_type": "code",
   "execution_count": 82,
   "metadata": {},
   "outputs": [
    {
     "data": {
      "text/plain": [
       "'Not Found'"
      ]
     },
     "execution_count": 82,
     "metadata": {},
     "output_type": "execute_result"
    }
   ],
   "source": [
    "search_linked_list_rec(p, 17)"
   ]
  },
  {
   "cell_type": "code",
   "execution_count": 102,
   "metadata": {},
   "outputs": [],
   "source": [
    "# Improving Search - Move the found node to front\n",
    "def search_linked_list_first(p, key):\n",
    "    global first\n",
    "    q = None\n",
    "    while p != None:\n",
    "        if key == p.value:\n",
    "            q.next = p.next\n",
    "            p.next = first\n",
    "            first = p\n",
    "\n",
    "            return p.value\n",
    "        \n",
    "        q = p\n",
    "        p = p.next\n",
    "\n",
    "    return \"Not Found\""
   ]
  },
  {
   "cell_type": "code",
   "execution_count": 103,
   "metadata": {},
   "outputs": [
    {
     "data": {
      "text/plain": [
       "15"
      ]
     },
     "execution_count": 103,
     "metadata": {},
     "output_type": "execute_result"
    }
   ],
   "source": [
    "arr = [3, 5, 7, 10, 15, 8, 12]\n",
    "first = create_linked_list(arr)\n",
    "p = first\n",
    "search_linked_list_first(p, 15)"
   ]
  },
  {
   "cell_type": "code",
   "execution_count": 104,
   "metadata": {},
   "outputs": [
    {
     "name": "stdout",
     "output_type": "stream",
     "text": [
      "15\n",
      "3\n",
      "5\n",
      "7\n",
      "10\n",
      "8\n",
      "12\n"
     ]
    }
   ],
   "source": [
    "display_linked_list(first)"
   ]
  },
  {
   "cell_type": "code",
   "execution_count": 105,
   "metadata": {},
   "outputs": [
    {
     "data": {
      "text/plain": [
       "'Not Found'"
      ]
     },
     "execution_count": 105,
     "metadata": {},
     "output_type": "execute_result"
    }
   ],
   "source": [
    "p = first\n",
    "search_linked_list_first(p, 9)"
   ]
  },
  {
   "cell_type": "code",
   "execution_count": 106,
   "metadata": {},
   "outputs": [
    {
     "data": {
      "text/plain": [
       "8"
      ]
     },
     "execution_count": 106,
     "metadata": {},
     "output_type": "execute_result"
    }
   ],
   "source": [
    "p = first\n",
    "search_linked_list_first(p, 8)"
   ]
  },
  {
   "cell_type": "code",
   "execution_count": 107,
   "metadata": {},
   "outputs": [
    {
     "name": "stdout",
     "output_type": "stream",
     "text": [
      "8\n",
      "15\n",
      "3\n",
      "5\n",
      "7\n",
      "10\n",
      "12\n"
     ]
    }
   ],
   "source": [
    "display_linked_list(first)"
   ]
  },
  {
   "cell_type": "markdown",
   "metadata": {},
   "source": [
    "**Inserting in  Linked List**"
   ]
  },
  {
   "cell_type": "code",
   "execution_count": 125,
   "metadata": {},
   "outputs": [],
   "source": [
    "def insert_linked_list(first, pos, x):\n",
    "    p = first\n",
    "    if pos < 0 or pos > count_linked_list(first):\n",
    "        return \"Invalid Position\"\n",
    "\n",
    "    t = ListNode(value=x)\n",
    "    # t.value = x\n",
    "    \n",
    "    if pos == 0:\n",
    "        t.next = first\n",
    "        first = t\n",
    "        return first\n",
    "    \n",
    "    for i in range(pos-1):\n",
    "        p = p.next\n",
    "    \n",
    "    t.next = p.next\n",
    "    p.next = t\n",
    "\n",
    "    return first\n"
   ]
  },
  {
   "cell_type": "code",
   "execution_count": 126,
   "metadata": {},
   "outputs": [
    {
     "name": "stdout",
     "output_type": "stream",
     "text": [
      "3\n",
      "5\n",
      "7\n",
      "10\n",
      "15\n",
      "8\n",
      "12\n"
     ]
    }
   ],
   "source": [
    "arr = [3, 5, 7, 10, 15, 8, 12]\n",
    "first = create_linked_list(arr)\n",
    "display_linked_list(first)"
   ]
  },
  {
   "cell_type": "code",
   "execution_count": 127,
   "metadata": {},
   "outputs": [
    {
     "name": "stdout",
     "output_type": "stream",
     "text": [
      "10\n",
      "3\n",
      "5\n",
      "7\n",
      "10\n",
      "15\n",
      "8\n",
      "12\n"
     ]
    }
   ],
   "source": [
    "first = insert_linked_list(first, 0, 10)\n",
    "display_linked_list(first)"
   ]
  },
  {
   "cell_type": "code",
   "execution_count": 128,
   "metadata": {},
   "outputs": [
    {
     "name": "stdout",
     "output_type": "stream",
     "text": [
      "3\n",
      "5\n",
      "7\n",
      "55\n",
      "10\n",
      "15\n",
      "8\n",
      "12\n"
     ]
    }
   ],
   "source": [
    "arr = [3, 5, 7, 10, 15, 8, 12]\n",
    "first = create_linked_list(arr)\n",
    "\n",
    "first = insert_linked_list(first, 3, 55)\n",
    "display_linked_list(first)"
   ]
  },
  {
   "cell_type": "code",
   "execution_count": 129,
   "metadata": {},
   "outputs": [
    {
     "data": {
      "text/plain": [
       "'Invalid Position'"
      ]
     },
     "execution_count": 129,
     "metadata": {},
     "output_type": "execute_result"
    }
   ],
   "source": [
    "insert_linked_list(first, 55, 55)"
   ]
  },
  {
   "cell_type": "code",
   "execution_count": null,
   "metadata": {},
   "outputs": [],
   "source": []
  }
 ],
 "metadata": {
  "kernelspec": {
   "display_name": "Python 3",
   "language": "python",
   "name": "python3"
  },
  "language_info": {
   "codemirror_mode": {
    "name": "ipython",
    "version": 3
   },
   "file_extension": ".py",
   "mimetype": "text/x-python",
   "name": "python",
   "nbconvert_exporter": "python",
   "pygments_lexer": "ipython3",
   "version": "3.9.6"
  }
 },
 "nbformat": 4,
 "nbformat_minor": 2
}
