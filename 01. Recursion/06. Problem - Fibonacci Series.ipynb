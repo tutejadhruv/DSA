{
 "cells": [
  {
   "attachments": {},
   "cell_type": "markdown",
   "metadata": {},
   "source": [
    "### Fibonacci Series\n",
    "\n",
    "0 1 1 2 3 5 8 13 ...."
   ]
  },
  {
   "cell_type": "code",
   "execution_count": 18,
   "metadata": {},
   "outputs": [
    {
     "data": {
      "text/plain": [
       "5"
      ]
     },
     "execution_count": 18,
     "metadata": {},
     "output_type": "execute_result"
    }
   ],
   "source": [
    "# My Solution [Time Complexity ~ O(2^n), Space Complexity ~ O(2^n)]\n",
    "def fib(n):\n",
    "    if n == 0:\n",
    "        return 0\n",
    "    elif n == 1:\n",
    "        return 1\n",
    "    return fib(n-2) + fib(n-1)\n",
    "\n",
    "fib(5)"
   ]
  },
  {
   "cell_type": "code",
   "execution_count": 21,
   "metadata": {},
   "outputs": [
    {
     "data": {
      "text/plain": [
       "5"
      ]
     },
     "execution_count": 21,
     "metadata": {},
     "output_type": "execute_result"
    }
   ],
   "source": [
    "# Memoization Approach [Time Complexity ~ O(n), Space Complexity ~ O(n)]\n",
    "arr = [-1]*100 \n",
    "def fib_mem(n):\n",
    "    global arr\n",
    "    if n <= 1:\n",
    "        arr[n] == n\n",
    "        return n\n",
    "    else:\n",
    "        if arr[n-2] == -1:\n",
    "            arr[n-2] = fib_mem(n-2)\n",
    "        if arr[n-1] == -1:\n",
    "            arr[n-1] = fib_mem(n-1)\n",
    "        return arr[n-2] + arr[n-1]\n",
    "    \n",
    "fib_mem(5)\n",
    "        "
   ]
  },
  {
   "cell_type": "code",
   "execution_count": null,
   "metadata": {},
   "outputs": [],
   "source": []
  }
 ],
 "metadata": {
  "kernelspec": {
   "display_name": "base",
   "language": "python",
   "name": "python3"
  },
  "language_info": {
   "codemirror_mode": {
    "name": "ipython",
    "version": 3
   },
   "file_extension": ".py",
   "mimetype": "text/x-python",
   "name": "python",
   "nbconvert_exporter": "python",
   "pygments_lexer": "ipython3",
   "version": "3.8.5 (default, Sep  3 2020, 21:29:08) [MSC v.1916 64 bit (AMD64)]"
  },
  "orig_nbformat": 4,
  "vscode": {
   "interpreter": {
    "hash": "cb94d9371c128d4fcd1f89dcedd0a870db065db047cd8267a446850138ea7f96"
   }
  }
 },
 "nbformat": 4,
 "nbformat_minor": 2
}
