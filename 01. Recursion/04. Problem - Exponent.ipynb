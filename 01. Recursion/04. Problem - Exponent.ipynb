{
 "cells": [
  {
   "attachments": {},
   "cell_type": "markdown",
   "metadata": {},
   "source": [
    "### Exponent - Power Function\n",
    "\n",
    "2^5 = 2 * 2 * 2 * 2 * 2\n",
    "\n",
    "m^n = m * m * m * ..... for n times\n",
    "\n",
    "pow(m, n) = (m * m * m * .... * n-1 times) * m\n"
   ]
  },
  {
   "cell_type": "code",
   "execution_count": 2,
   "metadata": {},
   "outputs": [
    {
     "data": {
      "text/plain": [
       "32"
      ]
     },
     "execution_count": 2,
     "metadata": {},
     "output_type": "execute_result"
    }
   ],
   "source": [
    "# My Solution  [Time Complexity ~ O(n), Space Complexity ~ O(n)]\n",
    "def power(m, n):\n",
    "    if n == 0:\n",
    "        return 1\n",
    "    return power(m, n-1) * m\n",
    "\n",
    "power(2, 5)"
   ]
  },
  {
   "cell_type": "code",
   "execution_count": 4,
   "metadata": {},
   "outputs": [
    {
     "data": {
      "text/plain": [
       "32"
      ]
     },
     "execution_count": 4,
     "metadata": {},
     "output_type": "execute_result"
    }
   ],
   "source": [
    "# Optimized Solution \n",
    "def power_opt(m, n):\n",
    "    if n == 0:\n",
    "        return 1\n",
    "    if (n % 2 == 0):\n",
    "        return power_opt(m * m, n//2)\n",
    "    else:\n",
    "        return m * power_opt(m * m, (n-1)//2)\n",
    "    \n",
    "power_opt(2, 5)"
   ]
  },
  {
   "cell_type": "code",
   "execution_count": null,
   "metadata": {},
   "outputs": [],
   "source": []
  }
 ],
 "metadata": {
  "kernelspec": {
   "display_name": "base",
   "language": "python",
   "name": "python3"
  },
  "language_info": {
   "codemirror_mode": {
    "name": "ipython",
    "version": 3
   },
   "file_extension": ".py",
   "mimetype": "text/x-python",
   "name": "python",
   "nbconvert_exporter": "python",
   "pygments_lexer": "ipython3",
   "version": "3.8.5"
  },
  "orig_nbformat": 4,
  "vscode": {
   "interpreter": {
    "hash": "cb94d9371c128d4fcd1f89dcedd0a870db065db047cd8267a446850138ea7f96"
   }
  }
 },
 "nbformat": 4,
 "nbformat_minor": 2
}
