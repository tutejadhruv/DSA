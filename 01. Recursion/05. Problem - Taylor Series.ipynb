{
 "cells": [
  {
   "cell_type": "markdown",
   "metadata": {},
   "source": [
    "### Taylor Series\n",
    "\n",
    "e^x = 1 + x/1 + x^2/2! + .... + x^n/n!"
   ]
  },
  {
   "cell_type": "code",
   "execution_count": 2,
   "metadata": {},
   "outputs": [
    {
     "data": {
      "text/plain": [
       "5.0"
      ]
     },
     "execution_count": 2,
     "metadata": {},
     "output_type": "execute_result"
    }
   ],
   "source": [
    "# My Solution\n",
    "def power_opt(m, n):\n",
    "    if n == 0:\n",
    "        return 1\n",
    "    if (n % 2 == 0):\n",
    "        return power_opt(m * m, n//2)\n",
    "    else:\n",
    "        return m * power_opt(m * m, (n-1)//2)\n",
    "\n",
    "def fact(n):\n",
    "    if n == 0:\n",
    "        return 1\n",
    "    return fact(n-1) * n\n",
    "\n",
    "def taylor_series(x, n):\n",
    "    if n == 0:\n",
    "        return 1\n",
    "    else:\n",
    "        return taylor_series(x, n-1) + power_opt(x, n)/fact(n)\n",
    "\n",
    "taylor_series(2, 2)"
   ]
  },
  {
   "cell_type": "code",
   "execution_count": 15,
   "metadata": {},
   "outputs": [
    {
     "data": {
      "text/plain": [
       "20.079665178571425"
      ]
     },
     "execution_count": 15,
     "metadata": {},
     "output_type": "execute_result"
    }
   ],
   "source": [
    "# Professor's approach [Time Complexity ~ O(n^2), Space Complexity ~ O(n)]\n",
    "p = 1\n",
    "f = 1\n",
    "\n",
    "def taylor_series(x, n):\n",
    "    global p,f\n",
    "    if n == 0:\n",
    "        return 1\n",
    "    else:\n",
    "        r = taylor_series(x, n-1)\n",
    "        p *= x\n",
    "        f *= n\n",
    "        return r + p/f\n",
    "    \n",
    "taylor_series(3, 10)"
   ]
  },
  {
   "cell_type": "code",
   "execution_count": 20,
   "metadata": {},
   "outputs": [
    {
     "data": {
      "text/plain": [
       "20.079665178571428"
      ]
     },
     "execution_count": 20,
     "metadata": {},
     "output_type": "execute_result"
    }
   ],
   "source": [
    "# Honer's Rule \n",
    "s = 1\n",
    "def taylor_series_hon(x, n):\n",
    "    global s\n",
    "    if n == 0:\n",
    "        return s\n",
    "    else:\n",
    "        s = 1 + x/n * s\n",
    "        return taylor_series_hon(x, n - 1)\n",
    "    \n",
    "taylor_series_hon(3, 10)"
   ]
  },
  {
   "cell_type": "code",
   "execution_count": null,
   "metadata": {},
   "outputs": [],
   "source": []
  }
 ],
 "metadata": {
  "kernelspec": {
   "display_name": "base",
   "language": "python",
   "name": "python3"
  },
  "language_info": {
   "codemirror_mode": {
    "name": "ipython",
    "version": 3
   },
   "file_extension": ".py",
   "mimetype": "text/x-python",
   "name": "python",
   "nbconvert_exporter": "python",
   "pygments_lexer": "ipython3",
   "version": "3.8.5"
  },
  "orig_nbformat": 4,
  "vscode": {
   "interpreter": {
    "hash": "cb94d9371c128d4fcd1f89dcedd0a870db065db047cd8267a446850138ea7f96"
   }
  }
 },
 "nbformat": 4,
 "nbformat_minor": 2
}
