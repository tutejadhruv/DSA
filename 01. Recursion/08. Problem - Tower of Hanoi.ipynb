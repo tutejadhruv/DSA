{
 "cells": [
  {
   "cell_type": "markdown",
   "metadata": {},
   "source": [
    "### Tower of Hanoi"
   ]
  },
  {
   "cell_type": "code",
   "execution_count": 4,
   "metadata": {},
   "outputs": [
    {
     "name": "stdout",
     "output_type": "stream",
     "text": [
      "a  ->  c\n",
      "a  ->  b\n",
      "c  ->  b\n",
      "a  ->  c\n",
      "b  ->  a\n",
      "b  ->  c\n",
      "a  ->  c\n"
     ]
    }
   ],
   "source": [
    "# My Solution [Time Complexity ~ O(2^n), Space Complexity ~ O(n)]\n",
    "def TOH(n, a, b, c):\n",
    "    if n > 0:\n",
    "        TOH(n-1, a, c, b)\n",
    "        print(a, \" -> \", c)\n",
    "        TOH(n-1, b, a, c)\n",
    "TOH(3, \"a\", \"b\", \"c\")"
   ]
  },
  {
   "cell_type": "code",
   "execution_count": 5,
   "metadata": {},
   "outputs": [
    {
     "name": "stdout",
     "output_type": "stream",
     "text": [
      "1  ->  3\n",
      "1  ->  2\n",
      "3  ->  2\n",
      "1  ->  3\n",
      "2  ->  1\n",
      "2  ->  3\n",
      "1  ->  3\n"
     ]
    }
   ],
   "source": [
    "TOH(3, 1, 2, 3)"
   ]
  },
  {
   "cell_type": "code",
   "execution_count": 6,
   "metadata": {},
   "outputs": [
    {
     "name": "stdout",
     "output_type": "stream",
     "text": [
      "1  ->  3\n"
     ]
    }
   ],
   "source": [
    "TOH(1, 1, 2, 3)"
   ]
  },
  {
   "cell_type": "code",
   "execution_count": 7,
   "metadata": {},
   "outputs": [
    {
     "name": "stdout",
     "output_type": "stream",
     "text": [
      "1  ->  2\n",
      "1  ->  3\n",
      "2  ->  3\n"
     ]
    }
   ],
   "source": [
    "TOH(2, 1, 2, 3)"
   ]
  },
  {
   "cell_type": "code",
   "execution_count": 8,
   "metadata": {},
   "outputs": [
    {
     "name": "stdout",
     "output_type": "stream",
     "text": [
      "1  ->  2\n",
      "1  ->  3\n",
      "2  ->  3\n",
      "1  ->  2\n",
      "3  ->  1\n",
      "3  ->  2\n",
      "1  ->  2\n",
      "1  ->  3\n",
      "2  ->  3\n",
      "2  ->  1\n",
      "3  ->  1\n",
      "2  ->  3\n",
      "1  ->  2\n",
      "1  ->  3\n",
      "2  ->  3\n"
     ]
    }
   ],
   "source": [
    "TOH(4, 1, 2, 3)"
   ]
  },
  {
   "cell_type": "code",
   "execution_count": null,
   "metadata": {},
   "outputs": [],
   "source": []
  }
 ],
 "metadata": {
  "kernelspec": {
   "display_name": "base",
   "language": "python",
   "name": "python3"
  },
  "language_info": {
   "codemirror_mode": {
    "name": "ipython",
    "version": 3
   },
   "file_extension": ".py",
   "mimetype": "text/x-python",
   "name": "python",
   "nbconvert_exporter": "python",
   "pygments_lexer": "ipython3",
   "version": "3.8.5"
  },
  "orig_nbformat": 4,
  "vscode": {
   "interpreter": {
    "hash": "cb94d9371c128d4fcd1f89dcedd0a870db065db047cd8267a446850138ea7f96"
   }
  }
 },
 "nbformat": 4,
 "nbformat_minor": 2
}
