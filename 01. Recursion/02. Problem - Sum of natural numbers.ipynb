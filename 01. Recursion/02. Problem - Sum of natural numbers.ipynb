{
 "cells": [
  {
   "attachments": {},
   "cell_type": "markdown",
   "metadata": {},
   "source": [
    "### Sum of first n natural numbers\n",
    "\n",
    "1 + 2 + 3 + 4 + ..... + n\n",
    "sum(n) = 1 + 2 + 3 + 4 + ..... + (n-1) + n\n",
    "\n",
    "sum(n) = sum(n-1) + n"
   ]
  },
  {
   "cell_type": "code",
   "execution_count": 5,
   "metadata": {},
   "outputs": [
    {
     "data": {
      "text/plain": [
       "15"
      ]
     },
     "execution_count": 5,
     "metadata": {},
     "output_type": "execute_result"
    }
   ],
   "source": [
    "# My Solution [Time Complexity ~ O(n), Space Complexity ~ O(n)]\n",
    "def sum_of_natural_numbers(n):\n",
    "    if n > 0:\n",
    "        n += sum_of_natural_numbers(n-1)\n",
    "    return n\n",
    "\n",
    "sum_of_natural_numbers(5)"
   ]
  },
  {
   "cell_type": "code",
   "execution_count": 8,
   "metadata": {},
   "outputs": [
    {
     "data": {
      "text/plain": [
       "15"
      ]
     },
     "execution_count": 8,
     "metadata": {},
     "output_type": "execute_result"
    }
   ],
   "source": [
    "# Professor's Solution [Time Complexity ~ O(n), Space Complexity ~ O(n)]\n",
    "def sum_of_natural_numbers_prof(n):\n",
    "    if n == 0:\n",
    "        return 0\n",
    "    else:\n",
    "        return sum_of_natural_numbers_prof(n-1) + n\n",
    "    \n",
    "sum_of_natural_numbers_prof(5)"
   ]
  },
  {
   "cell_type": "code",
   "execution_count": 9,
   "metadata": {},
   "outputs": [
    {
     "data": {
      "text/plain": [
       "15"
      ]
     },
     "execution_count": 9,
     "metadata": {},
     "output_type": "execute_result"
    }
   ],
   "source": [
    "# Formula Approach [Time Complexity ~ o(1), Space Complexity ~ O(1)]\n",
    "def sum_of_natural_numbers_formula(n):\n",
    "    return (n*(n+1)//2)\n",
    "\n",
    "sum_of_natural_numbers_formula(5)"
   ]
  },
  {
   "cell_type": "code",
   "execution_count": 10,
   "metadata": {},
   "outputs": [
    {
     "data": {
      "text/plain": [
       "15"
      ]
     },
     "execution_count": 10,
     "metadata": {},
     "output_type": "execute_result"
    }
   ],
   "source": [
    "# Loop Approach [Time Complexity ~ O(n), Space Complexity ~ O(1)]\n",
    "def sum_of_natural_numbers_loop(n):\n",
    "    total = 0\n",
    "    for i in range(1,n+1):\n",
    "        total += i\n",
    "    return total\n",
    "\n",
    "sum_of_natural_numbers_loop(5)\n"
   ]
  },
  {
   "cell_type": "code",
   "execution_count": null,
   "metadata": {},
   "outputs": [],
   "source": []
  }
 ],
 "metadata": {
  "kernelspec": {
   "display_name": "base",
   "language": "python",
   "name": "python3"
  },
  "language_info": {
   "codemirror_mode": {
    "name": "ipython",
    "version": 3
   },
   "file_extension": ".py",
   "mimetype": "text/x-python",
   "name": "python",
   "nbconvert_exporter": "python",
   "pygments_lexer": "ipython3",
   "version": "3.8.5"
  },
  "orig_nbformat": 4,
  "vscode": {
   "interpreter": {
    "hash": "cb94d9371c128d4fcd1f89dcedd0a870db065db047cd8267a446850138ea7f96"
   }
  }
 },
 "nbformat": 4,
 "nbformat_minor": 2
}
