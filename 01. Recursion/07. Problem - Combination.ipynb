{
 "cells": [
  {
   "cell_type": "markdown",
   "metadata": {},
   "source": [
    "### Combination Formula\n",
    "\n",
    "nCr = n!/r!(n-r)!"
   ]
  },
  {
   "cell_type": "code",
   "execution_count": 5,
   "metadata": {},
   "outputs": [
    {
     "data": {
      "text/plain": [
       "10"
      ]
     },
     "execution_count": 5,
     "metadata": {},
     "output_type": "execute_result"
    }
   ],
   "source": [
    "# My Solution  [Time Complexity ~ O(n), Space Complexity ~ O(n)]\n",
    "def factorial(n):\n",
    "    if n == 0: return 1\n",
    "    return n * factorial(n-1)\n",
    "def combination(n, r):\n",
    "    if r > n: return 0\n",
    "    return factorial(n)//(factorial(r)* factorial(n-r))\n",
    "\n",
    "combination(5, 2)"
   ]
  },
  {
   "cell_type": "code",
   "execution_count": 16,
   "metadata": {},
   "outputs": [
    {
     "data": {
      "text/plain": [
       "10"
      ]
     },
     "execution_count": 16,
     "metadata": {},
     "output_type": "execute_result"
    }
   ],
   "source": [
    "# Pascal's Triangle approach\n",
    "def combination_pascal(n, r):\n",
    "    if r > n: return 0\n",
    "\n",
    "    if r == 0 or n == r:\n",
    "        return 1\n",
    "    return combination(n-1, r-1) + combination(n-1, r)\n",
    "\n",
    "combination_pascal(5, 2)"
   ]
  },
  {
   "cell_type": "code",
   "execution_count": null,
   "metadata": {},
   "outputs": [],
   "source": []
  }
 ],
 "metadata": {
  "kernelspec": {
   "display_name": "base",
   "language": "python",
   "name": "python3"
  },
  "language_info": {
   "codemirror_mode": {
    "name": "ipython",
    "version": 3
   },
   "file_extension": ".py",
   "mimetype": "text/x-python",
   "name": "python",
   "nbconvert_exporter": "python",
   "pygments_lexer": "ipython3",
   "version": "3.8.5"
  },
  "orig_nbformat": 4,
  "vscode": {
   "interpreter": {
    "hash": "cb94d9371c128d4fcd1f89dcedd0a870db065db047cd8267a446850138ea7f96"
   }
  }
 },
 "nbformat": 4,
 "nbformat_minor": 2
}
