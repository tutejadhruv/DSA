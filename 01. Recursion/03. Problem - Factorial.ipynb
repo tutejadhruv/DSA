{
 "cells": [
  {
   "attachments": {},
   "cell_type": "markdown",
   "metadata": {},
   "source": [
    "### Factorial of a number\n",
    "\n",
    "n! = 1 * 2 * 3 * ..... * n\n",
    "\n",
    "n! = (n-1)! * n"
   ]
  },
  {
   "cell_type": "code",
   "execution_count": 10,
   "metadata": {},
   "outputs": [
    {
     "data": {
      "text/plain": [
       "120"
      ]
     },
     "execution_count": 10,
     "metadata": {},
     "output_type": "execute_result"
    }
   ],
   "source": [
    "# My Solution [Time Complexity ~ O(n), Space Complexity ~ O(n)]\n",
    "def factorial(n):\n",
    "    if n == 0:\n",
    "        return 1\n",
    "    else:\n",
    "        return n * factorial(n-1) \n",
    "    \n",
    "factorial(5)"
   ]
  },
  {
   "cell_type": "code",
   "execution_count": 13,
   "metadata": {},
   "outputs": [
    {
     "data": {
      "text/plain": [
       "120"
      ]
     },
     "execution_count": 13,
     "metadata": {},
     "output_type": "execute_result"
    }
   ],
   "source": [
    "# Loop Solution [Time Complexity ~ O(n), Space Complexity ~ O(1)]\n",
    "def factorial_loop(n):\n",
    "    fact = 1\n",
    "    for i in range(1, n+1):\n",
    "        fact *= i\n",
    "    return fact\n",
    "\n",
    "factorial_loop(5)"
   ]
  },
  {
   "cell_type": "code",
   "execution_count": null,
   "metadata": {},
   "outputs": [],
   "source": []
  }
 ],
 "metadata": {
  "kernelspec": {
   "display_name": "base",
   "language": "python",
   "name": "python3"
  },
  "language_info": {
   "codemirror_mode": {
    "name": "ipython",
    "version": 3
   },
   "file_extension": ".py",
   "mimetype": "text/x-python",
   "name": "python",
   "nbconvert_exporter": "python",
   "pygments_lexer": "ipython3",
   "version": "3.8.5"
  },
  "orig_nbformat": 4,
  "vscode": {
   "interpreter": {
    "hash": "cb94d9371c128d4fcd1f89dcedd0a870db065db047cd8267a446850138ea7f96"
   }
  }
 },
 "nbformat": 4,
 "nbformat_minor": 2
}
