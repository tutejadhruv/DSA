{
 "cells": [
  {
   "cell_type": "markdown",
   "metadata": {},
   "source": [
    "### Strings Concept"
   ]
  },
  {
   "cell_type": "code",
   "execution_count": 1,
   "metadata": {},
   "outputs": [
    {
     "data": {
      "text/plain": [
       "'a'"
      ]
     },
     "execution_count": 1,
     "metadata": {},
     "output_type": "execute_result"
    }
   ],
   "source": [
    "# Char\n",
    "x = 'a'\n",
    "x"
   ]
  },
  {
   "cell_type": "code",
   "execution_count": 2,
   "metadata": {},
   "outputs": [
    {
     "data": {
      "text/plain": [
       "['a', 'b', 'c', 'd']"
      ]
     },
     "execution_count": 2,
     "metadata": {},
     "output_type": "execute_result"
    }
   ],
   "source": [
    "# Char set\n",
    "x = ['a', 'b', 'c', 'd']\n",
    "x"
   ]
  },
  {
   "cell_type": "markdown",
   "metadata": {},
   "source": [
    "In Python, there is no dedicated \"char array\" like in languages such as C. Instead, you use a list of single-character strings to represent a \"char array.\" Strings in Python are typically delimited by either single quotes (') or double quotes (\"), and the same applies to the individual elements of a char array (list of characters).\n",
    "\n",
    "Key Takeaways\n",
    "1. Characters in Python are single-character strings, enclosed in either single quotes (') or double quotes (\").\n",
    "2. A \"char array\" in Python is typically represented as a list of single-character strings.\n",
    "3. You can use delimiters like join() to control how characters are concatenated or represented in a string."
   ]
  },
  {
   "cell_type": "markdown",
   "metadata": {},
   "source": [
    "**Length Of String**"
   ]
  },
  {
   "cell_type": "code",
   "execution_count": 4,
   "metadata": {},
   "outputs": [
    {
     "data": {
      "text/plain": [
       "7"
      ]
     },
     "execution_count": 4,
     "metadata": {},
     "output_type": "execute_result"
    }
   ],
   "source": [
    "def length_of_string(x):\n",
    "    length = 0\n",
    "    for i in x:\n",
    "        length += 1\n",
    "    \n",
    "    return length\n",
    "\n",
    "x = \"welcome\"\n",
    "length_of_string(x)"
   ]
  },
  {
   "cell_type": "markdown",
   "metadata": {},
   "source": [
    "**Chage Case of String**"
   ]
  },
  {
   "cell_type": "code",
   "execution_count": 9,
   "metadata": {},
   "outputs": [
    {
     "data": {
      "text/plain": [
       "'wElCoMe'"
      ]
     },
     "execution_count": 9,
     "metadata": {},
     "output_type": "execute_result"
    }
   ],
   "source": [
    "def case_converter(x):\n",
    "    new_string = ''\n",
    "    for i in x:\n",
    "        if ord(i) <= 90 and ord(i) >= 65:\n",
    "            new_string += chr(ord(i) + 32)\n",
    "        elif ord(i) >=97 and ord(i) <= 122:\n",
    "            new_string += chr(ord(i) - 32)\n",
    "    return new_string\n",
    "\n",
    "case_converter('WeLcOmE')"
   ]
  },
  {
   "cell_type": "markdown",
   "metadata": {},
   "source": [
    "**Count no. of words and vowels**"
   ]
  },
  {
   "cell_type": "code",
   "execution_count": 11,
   "metadata": {},
   "outputs": [
    {
     "data": {
      "text/plain": [
       "[5, 3]"
      ]
     },
     "execution_count": 11,
     "metadata": {},
     "output_type": "execute_result"
    }
   ],
   "source": [
    "def string_count_words(x):\n",
    "    v_count = 0\n",
    "    vowel_list = ['a', 'e', 'i', 'o', 'u']\n",
    "    word = 1\n",
    "    length = len(x)\n",
    "\n",
    "    for i in range(length):\n",
    "        if x[i] in vowel_list:\n",
    "            v_count += 1\n",
    "    \n",
    "        if x[i] == ' ' and x[i-1] != ' ':\n",
    "            word += 1\n",
    "\n",
    "    return [v_count, word]\n",
    "\n",
    "x = \"How are  you\"\n",
    "string_count_words(x)"
   ]
  }
 ],
 "metadata": {
  "kernelspec": {
   "display_name": "Python 3",
   "language": "python",
   "name": "python3"
  },
  "language_info": {
   "codemirror_mode": {
    "name": "ipython",
    "version": 3
   },
   "file_extension": ".py",
   "mimetype": "text/x-python",
   "name": "python",
   "nbconvert_exporter": "python",
   "pygments_lexer": "ipython3",
   "version": "3.9.6"
  }
 },
 "nbformat": 4,
 "nbformat_minor": 2
}
