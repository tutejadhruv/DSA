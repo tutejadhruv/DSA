{
 "cells": [
  {
   "cell_type": "markdown",
   "metadata": {},
   "source": [
    "### Finding Duplicates in string using bitwise operations"
   ]
  },
  {
   "cell_type": "code",
   "execution_count": 4,
   "metadata": {},
   "outputs": [],
   "source": [
    "def find_dupes_lower(string):\n",
    "    H = 0\n",
    "    x = 0\n",
    "    n = len(string)\n",
    "    dupe_set = set()\n",
    "\n",
    "    for i in range(n):\n",
    "        x = 1\n",
    "        x = x << (ord(string[i]) - 97)\n",
    "        if (H & x) > 0:\n",
    "            dupe_set.add(string[i])\n",
    "        else:\n",
    "            H |= x\n",
    "    \n",
    "    return dupe_set"
   ]
  },
  {
   "cell_type": "code",
   "execution_count": 5,
   "metadata": {},
   "outputs": [
    {
     "data": {
      "text/plain": [
       "{'i', 'n'}"
      ]
     },
     "execution_count": 5,
     "metadata": {},
     "output_type": "execute_result"
    }
   ],
   "source": [
    "string = \"finiding\"\n",
    "find_dupes_lower(string)"
   ]
  },
  {
   "cell_type": "code",
   "execution_count": null,
   "metadata": {},
   "outputs": [],
   "source": []
  }
 ],
 "metadata": {
  "kernelspec": {
   "display_name": "Python 3",
   "language": "python",
   "name": "python3"
  },
  "language_info": {
   "codemirror_mode": {
    "name": "ipython",
    "version": 3
   },
   "file_extension": ".py",
   "mimetype": "text/x-python",
   "name": "python",
   "nbconvert_exporter": "python",
   "pygments_lexer": "ipython3",
   "version": "3.9.6"
  }
 },
 "nbformat": 4,
 "nbformat_minor": 2
}
