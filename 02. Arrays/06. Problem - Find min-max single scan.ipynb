{
 "cells": [
  {
   "cell_type": "markdown",
   "metadata": {},
   "source": [
    "### Problem - Find min-max single scan"
   ]
  },
  {
   "cell_type": "code",
   "execution_count": 5,
   "metadata": {},
   "outputs": [],
   "source": [
    "import sys\n",
    "def min_max(a): # Time Complexity ~ O(n)\n",
    "    min_int = a[0]\n",
    "    max_int = a[0]\n",
    "    n = len(a)\n",
    "\n",
    "    for i in range(1, n):\n",
    "        if a[i] > max_int:\n",
    "            max_int = a[i]\n",
    "        elif a[i] < min_int:\n",
    "            min_int = a[i]\n",
    "\n",
    "    \n",
    "\n",
    "    print(\"Here is max: \", max_int)\n",
    "    print(\"Here is min: \", min_int)"
   ]
  },
  {
   "cell_type": "code",
   "execution_count": 6,
   "metadata": {},
   "outputs": [
    {
     "name": "stdout",
     "output_type": "stream",
     "text": [
      "Here is max:  10\n",
      "Here is min:  -1\n"
     ]
    }
   ],
   "source": [
    "a = [5,8,3,9,6,2,10,7,-1,4]\n",
    "min_max(a)"
   ]
  },
  {
   "cell_type": "code",
   "execution_count": null,
   "metadata": {},
   "outputs": [],
   "source": []
  }
 ],
 "metadata": {
  "kernelspec": {
   "display_name": "Python 3",
   "language": "python",
   "name": "python3"
  },
  "language_info": {
   "codemirror_mode": {
    "name": "ipython",
    "version": 3
   },
   "file_extension": ".py",
   "mimetype": "text/x-python",
   "name": "python",
   "nbconvert_exporter": "python",
   "pygments_lexer": "ipython3",
   "version": "3.9.6"
  }
 },
 "nbformat": 4,
 "nbformat_minor": 2
}
