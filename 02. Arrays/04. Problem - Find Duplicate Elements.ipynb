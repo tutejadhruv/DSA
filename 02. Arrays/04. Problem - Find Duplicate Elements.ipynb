{
 "cells": [
  {
   "cell_type": "markdown",
   "metadata": {},
   "source": [
    "### Find Duplicate Elements "
   ]
  },
  {
   "cell_type": "code",
   "execution_count": 24,
   "metadata": {},
   "outputs": [],
   "source": [
    "import sys"
   ]
  },
  {
   "cell_type": "code",
   "execution_count": 13,
   "metadata": {},
   "outputs": [],
   "source": [
    "a = [3,6,8,8,10,12,15,15,15,20,20]"
   ]
  },
  {
   "cell_type": "code",
   "execution_count": 14,
   "metadata": {},
   "outputs": [
    {
     "name": "stdout",
     "output_type": "stream",
     "text": [
      "8\n",
      "15\n",
      "20\n"
     ]
    }
   ],
   "source": [
    "import sys\n",
    "def finding_duplicates_sorted(a):\n",
    "    last_duplicate = sys.maxsize\n",
    "    n = len(a)\n",
    "    for i in range(n-1):\n",
    "        if a[i] == a[i+1] and a[i] != last_duplicate:\n",
    "            print(a[i])\n",
    "            last_duplicate = a[i]\n",
    "\n",
    "finding_duplicates_sorted(a)"
   ]
  },
  {
   "cell_type": "markdown",
   "metadata": {},
   "source": [
    "**Find Duplicates in Sorted Array Using Hashing**"
   ]
  },
  {
   "cell_type": "code",
   "execution_count": 19,
   "metadata": {},
   "outputs": [],
   "source": [
    "def dupes_sorted_hashing(a): \n",
    "    max_a = a[-1] # As the array is sorted\n",
    "    hash_array = [0] * (max_a+1)\n",
    "    n = len(a)\n",
    "    for i in range(n): \n",
    "        hash_array[a[i]] += 1\n",
    "    \n",
    "    for i in range(max_a+1):\n",
    "        if hash_array[i] > 1:\n",
    "            print(i)"
   ]
  },
  {
   "cell_type": "code",
   "execution_count": 21,
   "metadata": {},
   "outputs": [
    {
     "name": "stdout",
     "output_type": "stream",
     "text": [
      "8\n",
      "15\n",
      "20\n"
     ]
    }
   ],
   "source": [
    "dupes_sorted_hashing(a)"
   ]
  },
  {
   "cell_type": "markdown",
   "metadata": {},
   "source": [
    "**Find Duplicates in Array**"
   ]
  },
  {
   "cell_type": "code",
   "execution_count": null,
   "metadata": {},
   "outputs": [],
   "source": [
    "# My solution - Time Complexity ~ O(N)\n",
    "def dupes_unsorted(a):\n",
    "    max_a = -sys.maxsize\n",
    "    n = len(a)\n",
    "    for i in range(n):\n",
    "        if a[i] > max_a:\n",
    "            max_a = a[i]\n",
    "    \n",
    "    hash_array = [0] * (max_a + 1)\n",
    "    for i in range(n):\n",
    "        hash_array[a[i]] += 1\n",
    "\n",
    "    for i in range(max_a + 1):\n",
    "        if hash_array[i] > 1: print(i)\n",
    "\n",
    "    return"
   ]
  },
  {
   "cell_type": "code",
   "execution_count": 32,
   "metadata": {},
   "outputs": [
    {
     "name": "stdout",
     "output_type": "stream",
     "text": [
      "6\n",
      "8\n"
     ]
    }
   ],
   "source": [
    "b = [8,3,6,4,6,5,6,8,2,7]\n",
    "dupes_unsorted(b)"
   ]
  },
  {
   "cell_type": "code",
   "execution_count": null,
   "metadata": {},
   "outputs": [],
   "source": []
  }
 ],
 "metadata": {
  "kernelspec": {
   "display_name": "Python 3",
   "language": "python",
   "name": "python3"
  },
  "language_info": {
   "codemirror_mode": {
    "name": "ipython",
    "version": 3
   },
   "file_extension": ".py",
   "mimetype": "text/x-python",
   "name": "python",
   "nbconvert_exporter": "python",
   "pygments_lexer": "ipython3",
   "version": "3.9.6"
  }
 },
 "nbformat": 4,
 "nbformat_minor": 2
}
