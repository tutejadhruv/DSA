{
 "cells": [
  {
   "cell_type": "markdown",
   "metadata": {},
   "source": [
    "### Finding Single Element in Array\n",
    "\n",
    "Finding the missing element in the sequence of elements. We should know the starting and the ending number. There will be no duplicates in this case."
   ]
  },
  {
   "cell_type": "markdown",
   "metadata": {},
   "source": [
    "**Single Missing Element in a Sorted Array**\n",
    "\n",
    "For n natural numbers, we know that the sum of n natural numbers in an array is n*(n + 1)//2. So we can calucalate this using first and last element and get the difference of this and summing up all the elements in an array."
   ]
  },
  {
   "cell_type": "code",
   "execution_count": 3,
   "metadata": {},
   "outputs": [],
   "source": [
    "def single_missing_element_natural(array):\n",
    "    n_sum = array[-1]*(array[-1]+1)//2\n",
    "    total = 0\n",
    "    for i in range(len(array)):\n",
    "        total += array[i]\n",
    "\n",
    "    return n_sum - total  "
   ]
  },
  {
   "cell_type": "code",
   "execution_count": 4,
   "metadata": {},
   "outputs": [
    {
     "data": {
      "text/plain": [
       "7"
      ]
     },
     "execution_count": 4,
     "metadata": {},
     "output_type": "execute_result"
    }
   ],
   "source": [
    "array = [1,2,3,4,5,6,8,9,10,11,12]\n",
    "single_missing_element_natural(array)"
   ]
  },
  {
   "cell_type": "markdown",
   "metadata": {},
   "source": [
    "For simply sorted array, we can take the following approaches,"
   ]
  },
  {
   "cell_type": "code",
   "execution_count": null,
   "metadata": {},
   "outputs": [],
   "source": [
    "# My Approach\n",
    "def single_missing_element_sorted(array): # Time Complexity ~ O(n)\n",
    "    n = len(array)\n",
    "    for i in range(1, n):\n",
    "        if array[i] - array[i-1] != 1: return array[i] - 1"
   ]
  },
  {
   "cell_type": "code",
   "execution_count": 6,
   "metadata": {},
   "outputs": [
    {
     "data": {
      "text/plain": [
       "12"
      ]
     },
     "execution_count": 6,
     "metadata": {},
     "output_type": "execute_result"
    }
   ],
   "source": [
    "single_missing_element_sorted([6,7,8,9,10,11,13,14,15,16,17])"
   ]
  },
  {
   "cell_type": "code",
   "execution_count": null,
   "metadata": {},
   "outputs": [],
   "source": [
    "# Professor's approach - Subtract element and the index. Whenever difference changes, it means the value is missing\n",
    "def single_missing_element_sorted(array): # Time Complexity ~ O(n)\n",
    "    n = len(array)\n",
    "    diff = array[0] \n",
    "    for i in range(n):\n",
    "        if array[i] - i != diff: return i + diff"
   ]
  },
  {
   "cell_type": "code",
   "execution_count": 18,
   "metadata": {},
   "outputs": [
    {
     "data": {
      "text/plain": [
       "12"
      ]
     },
     "execution_count": 18,
     "metadata": {},
     "output_type": "execute_result"
    }
   ],
   "source": [
    "single_missing_element_sorted([6,7,8,9,10,11,13,14,15,16,17])"
   ]
  },
  {
   "cell_type": "markdown",
   "metadata": {},
   "source": [
    "**Find multiple missing elements from an array**"
   ]
  },
  {
   "cell_type": "code",
   "execution_count": null,
   "metadata": {},
   "outputs": [
    {
     "name": "stdout",
     "output_type": "stream",
     "text": [
      "10\n",
      "13\n",
      "14\n"
     ]
    }
   ],
   "source": [
    "# My Solution\n",
    " # Time Complexity ~ O(n+k), where k is the total number of elements missing. \n",
    " # We can consider the time taken by inner loop is negligible. Hence, time complexity is O(n).\n",
    "def multiple_missing_elements(array):\n",
    "    n = len(array)\n",
    "    for i in range(1, n):\n",
    "        diff = array[i] - array[i-1]\n",
    "        if diff > 1:\n",
    "            curr = array[i-1]\n",
    "            while diff != 1:\n",
    "                curr += 1\n",
    "                print(curr)\n",
    "                diff -= 1\n",
    "\n",
    "multiple_missing_elements([6,7,8,9,11,12,15,16,17,18,19])"
   ]
  },
  {
   "cell_type": "markdown",
   "metadata": {},
   "source": [
    "### Time Complexity Explaination\n",
    "\n",
    "If the input array is \\([1, 100]\\), then the difference (\\(\\text{diff}\\)) between consecutive elements is 99. This makes the **inner while loop execute 98 times** for this single pair.\n",
    "\n",
    "To analyze the **time complexity** in such a case:\n",
    "\n",
    "### Inner Loop Analysis\n",
    "\n",
    "1. **Outer Loop**: The `for` loop will iterate \\(n - 1\\) times. In this case, \\(n = 2\\), so the outer loop runs once.\n",
    "   \n",
    "2. **Inner While Loop**: For the single iteration of the outer loop, the `while` loop executes \\(\\text{diff} - 1 = 99 - 1 = 98\\) times.\n",
    "\n",
    "### General Case\n",
    "For arrays with large gaps between elements, the number of iterations of the inner `while` loop becomes proportional to the size of the gap (\\(\\text{diff}\\)).\n",
    "\n",
    "- Let \\(G\\) represent the sum of all gaps (missing elements) across the array. The number of iterations of the `while` loop will be proportional to \\(G\\).\n",
    "\n",
    "### Worst Case\n",
    "If the array has \\(n\\) elements and the maximum gap between consecutive elements is large (e.g., \\([1, 100]\\)), \\(G\\) can grow significantly relative to \\(n\\). This results in a worst-case complexity of **O(G)**, where \\(G\\) could be very large.\n",
    "\n",
    "### In the Case of [1, 100]\n",
    "Here:\n",
    "- \\(n = 2\\) (size of the array),\n",
    "- \\(G = 98\\) (total missing elements).\n",
    "\n",
    "The total time complexity is \\(O(n + G)\\). When \\(G\\) dominates \\(n\\), it approaches **O(G)**.\n",
    "\n",
    "### Why Not \\(O(n^2)\\)?\n",
    "The worst-case complexity of \\(O(n^2)\\) would arise if the **inner loop iterations** scaled quadratically with \\(n\\). However, here the number of iterations depends on the gap sizes, not the array size. Thus, the complexity is \\(O(n + G)\\), not \\(O(n^2)\\).\n",
    "\n",
    "For \\([1, 100]\\), the time complexity simplifies to \\(O(G) = O(98)\\), which scales linearly with the gap size, not quadratically."
   ]
  },
  {
   "cell_type": "code",
   "execution_count": null,
   "metadata": {},
   "outputs": [
    {
     "name": "stdout",
     "output_type": "stream",
     "text": [
      "10\n",
      "13\n",
      "14\n"
     ]
    }
   ],
   "source": [
    "# Professor's approach - Time Complexity ~ O(n)\n",
    "def multiple_missing_elements(a):\n",
    "    diff = a[0]\n",
    "    n = len(a)\n",
    "    for i in range(n):\n",
    "        if a[i] - i != diff:\n",
    "            while diff < a[i] - i:\n",
    "                print(i+diff)\n",
    "                diff += 1\n",
    "\n",
    "multiple_missing_elements([6,7,8,9,11,12,15,16,17,18,19])"
   ]
  },
  {
   "cell_type": "markdown",
   "metadata": {},
   "source": [
    "**Find multiple missing elements from an unsorted array**"
   ]
  },
  {
   "cell_type": "code",
   "execution_count": null,
   "metadata": {},
   "outputs": [
    {
     "name": "stdout",
     "output_type": "stream",
     "text": [
      "Here is max:  12\n",
      "Here is min:  1\n",
      "[0, 0, 0, 0, 0, 0, 0, 0, 0, 0, 0, 0, 0]\n",
      "5\n",
      "8\n"
     ]
    }
   ],
   "source": [
    "import sys\n",
    "def mul_missing_unsorted(a): # Time Complexity ~ O(n)\n",
    "    min_int = sys.maxsize\n",
    "    max_int = -sys.maxsize - 1\n",
    "    n = len(a)\n",
    "\n",
    "    for i in range(n):\n",
    "        if a[i] > max_int:\n",
    "            max_int = a[i]\n",
    "        elif a[i] < min_int:\n",
    "            min_int = a[i]\n",
    "\n",
    "    \n",
    "\n",
    "    print(\"Here is max: \", max_int)\n",
    "    print(\"Here is min: \", min_int)\n",
    "\n",
    "    hashing_array = [0] * (max_int+1)\n",
    "    print(hashing_array)\n",
    "\n",
    "    for i in range(n):\n",
    "        hashing_array[a[i]] += 1\n",
    "    \n",
    "    for i in range(min_int, max_int):\n",
    "        if hashing_array[i] == 0:\n",
    "            print(i)\n",
    "\n",
    "mul_missing_unsorted([3,7,4,9,12,6,1,11,2,10])"
   ]
  },
  {
   "cell_type": "code",
   "execution_count": null,
   "metadata": {},
   "outputs": [],
   "source": []
  },
  {
   "cell_type": "code",
   "execution_count": null,
   "metadata": {},
   "outputs": [],
   "source": []
  }
 ],
 "metadata": {
  "kernelspec": {
   "display_name": "Python 3",
   "language": "python",
   "name": "python3"
  },
  "language_info": {
   "codemirror_mode": {
    "name": "ipython",
    "version": 3
   },
   "file_extension": ".py",
   "mimetype": "text/x-python",
   "name": "python",
   "nbconvert_exporter": "python",
   "pygments_lexer": "ipython3",
   "version": "3.9.6"
  }
 },
 "nbformat": 4,
 "nbformat_minor": 2
}
