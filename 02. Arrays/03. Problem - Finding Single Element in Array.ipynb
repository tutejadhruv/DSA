{
 "cells": [
  {
   "cell_type": "markdown",
   "metadata": {},
   "source": [
    "### Finding Single Element in Array\n",
    "\n",
    "Finding the missing element in the sequence of elements. We should know the starting and the ending number. There will be no duplicates in this case."
   ]
  },
  {
   "cell_type": "markdown",
   "metadata": {},
   "source": [
    "**Single Missing Element in a Sorted Array**\n",
    "\n",
    "For n natural numbers, we know that the sum of n natural numbers in an array is n*(n + 1)//2. So we can calucalate this using first and last element and get the difference of this and summing up all the elements in an array."
   ]
  },
  {
   "cell_type": "code",
   "execution_count": 3,
   "metadata": {},
   "outputs": [],
   "source": [
    "def single_missing_element_natural(array):\n",
    "    n_sum = array[-1]*(array[-1]+1)//2\n",
    "    total = 0\n",
    "    for i in range(len(array)):\n",
    "        total += array[i]\n",
    "\n",
    "    return n_sum - total  "
   ]
  },
  {
   "cell_type": "code",
   "execution_count": 4,
   "metadata": {},
   "outputs": [
    {
     "data": {
      "text/plain": [
       "7"
      ]
     },
     "execution_count": 4,
     "metadata": {},
     "output_type": "execute_result"
    }
   ],
   "source": [
    "array = [1,2,3,4,5,6,8,9,10,11,12]\n",
    "single_missing_element_natural(array)"
   ]
  },
  {
   "cell_type": "markdown",
   "metadata": {},
   "source": [
    "For simply sorted array, we can take the following approaches,"
   ]
  },
  {
   "cell_type": "code",
   "execution_count": null,
   "metadata": {},
   "outputs": [],
   "source": [
    "# My Approach\n",
    "def single_missing_element_sorted(array): # Time Complexity ~ O(n)\n",
    "    n = len(array)\n",
    "    for i in range(1, n):\n",
    "        if array[i] - array[i-1] != 1: return array[i] - 1"
   ]
  },
  {
   "cell_type": "code",
   "execution_count": 6,
   "metadata": {},
   "outputs": [
    {
     "data": {
      "text/plain": [
       "12"
      ]
     },
     "execution_count": 6,
     "metadata": {},
     "output_type": "execute_result"
    }
   ],
   "source": [
    "single_missing_element_sorted([6,7,8,9,10,11,13,14,15,16,17])"
   ]
  },
  {
   "cell_type": "code",
   "execution_count": null,
   "metadata": {},
   "outputs": [],
   "source": [
    "# Professor's approach - Subtract element and the index. Whenever difference changes, it means the value is missing\n",
    "def single_missing_element_sorted(array): # Time Complexity ~ O(n)\n",
    "    n = len(array)\n",
    "    diff = array[0] \n",
    "    for i in range(n):\n",
    "        if array[i] - i != diff: return i + diff"
   ]
  },
  {
   "cell_type": "code",
   "execution_count": 18,
   "metadata": {},
   "outputs": [
    {
     "data": {
      "text/plain": [
       "12"
      ]
     },
     "execution_count": 18,
     "metadata": {},
     "output_type": "execute_result"
    }
   ],
   "source": [
    "single_missing_element_sorted([6,7,8,9,10,11,13,14,15,16,17])"
   ]
  },
  {
   "cell_type": "markdown",
   "metadata": {},
   "source": [
    "**Find multiple missing elements from an array**"
   ]
  },
  {
   "cell_type": "code",
   "execution_count": 31,
   "metadata": {},
   "outputs": [],
   "source": [
    "def multiple_missing_elements(array): # Time Complexity ~ O(n)\n",
    "    n = len(array)\n",
    "    diff = array[0] \n",
    "    for i in range(n):\n",
    "        if array[i] - i != diff: \n",
    "            while(diff <= array[i] - i):\n",
    "                print(i + diff)\n",
    "                diff += 1\n"
   ]
  },
  {
   "cell_type": "code",
   "execution_count": 32,
   "metadata": {},
   "outputs": [
    {
     "name": "stdout",
     "output_type": "stream",
     "text": [
      "10\n",
      "11\n",
      "14\n",
      "15\n"
     ]
    }
   ],
   "source": [
    "multiple_missing_elements([6,7,8,9,11,12,15,16,17,18,19])"
   ]
  },
  {
   "cell_type": "code",
   "execution_count": null,
   "metadata": {},
   "outputs": [],
   "source": []
  }
 ],
 "metadata": {
  "kernelspec": {
   "display_name": "Python 3",
   "language": "python",
   "name": "python3"
  },
  "language_info": {
   "codemirror_mode": {
    "name": "ipython",
    "version": 3
   },
   "file_extension": ".py",
   "mimetype": "text/x-python",
   "name": "python",
   "nbconvert_exporter": "python",
   "pygments_lexer": "ipython3",
   "version": "3.9.6"
  }
 },
 "nbformat": 4,
 "nbformat_minor": 2
}
