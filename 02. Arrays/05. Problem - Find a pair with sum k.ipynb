{
 "cells": [
  {
   "cell_type": "markdown",
   "metadata": {},
   "source": [
    "### Find a pair with sum k - Two Sum"
   ]
  },
  {
   "cell_type": "code",
   "execution_count": 5,
   "metadata": {},
   "outputs": [],
   "source": [
    "def two_sum(a, target):\n",
    "    hash_array = {}\n",
    "    for i in a:\n",
    "        diff = target - i\n",
    "        if diff in hash_array:\n",
    "            return [i, diff]\n",
    "        else:\n",
    "            hash_array[i] = 1\n",
    "        \n",
    "    return -1"
   ]
  },
  {
   "cell_type": "code",
   "execution_count": 7,
   "metadata": {},
   "outputs": [
    {
     "data": {
      "text/plain": [
       "[2, 8]"
      ]
     },
     "execution_count": 7,
     "metadata": {},
     "output_type": "execute_result"
    }
   ],
   "source": [
    "a = [6,3,8,10,16,5,2,9,14]\n",
    "two_sum(a, 10)"
   ]
  },
  {
   "cell_type": "markdown",
   "metadata": {},
   "source": [
    "**Using Hashing**"
   ]
  },
  {
   "cell_type": "code",
   "execution_count": 11,
   "metadata": {},
   "outputs": [
    {
     "data": {
      "text/plain": [
       "[2, 8]"
      ]
     },
     "execution_count": 11,
     "metadata": {},
     "output_type": "execute_result"
    }
   ],
   "source": [
    "def two_sum_hashing(a, target):\n",
    "    max_a = max(a)\n",
    "    hash_a = [0] * (max_a + 1)\n",
    "    n = len(a)\n",
    "    for i in a:\n",
    "        diff = target - i\n",
    "        if hash_a[diff] == 1:\n",
    "            return [i, diff]\n",
    "        else:\n",
    "            hash_a[i] = 1\n",
    "\n",
    "    return []\n",
    "\n",
    "two_sum_hashing(a, 10)"
   ]
  },
  {
   "cell_type": "markdown",
   "metadata": {},
   "source": [
    "**Finding pair in sorted array**"
   ]
  },
  {
   "cell_type": "code",
   "execution_count": 17,
   "metadata": {},
   "outputs": [],
   "source": [
    "def two_sum_sorted(a, target): # Time Complexity ~ O(N)\n",
    "    i = 0 \n",
    "    j = len(a) - 1\n",
    "    while (i != j):\n",
    "        if a[i] + a[j] == target:\n",
    "            print(a[i], a[j])\n",
    "            i += 1\n",
    "            j -= 1\n",
    "        elif a[i] + a[j] < target:\n",
    "            i += 1\n",
    "        else:\n",
    "            j -= 1\n",
    "        \n",
    "    return "
   ]
  },
  {
   "cell_type": "code",
   "execution_count": 18,
   "metadata": {},
   "outputs": [
    {
     "name": "stdout",
     "output_type": "stream",
     "text": [
      "1 9\n",
      "4 6\n"
     ]
    }
   ],
   "source": [
    "a_sorted = [1,3,4,5,6,8,9,10,12,14]\n",
    "two_sum_sorted(a_sorted, 10)"
   ]
  },
  {
   "cell_type": "code",
   "execution_count": null,
   "metadata": {},
   "outputs": [],
   "source": []
  }
 ],
 "metadata": {
  "kernelspec": {
   "display_name": "Python 3",
   "language": "python",
   "name": "python3"
  },
  "language_info": {
   "codemirror_mode": {
    "name": "ipython",
    "version": 3
   },
   "file_extension": ".py",
   "mimetype": "text/x-python",
   "name": "python",
   "nbconvert_exporter": "python",
   "pygments_lexer": "ipython3",
   "version": "3.9.6"
  }
 },
 "nbformat": 4,
 "nbformat_minor": 2
}
