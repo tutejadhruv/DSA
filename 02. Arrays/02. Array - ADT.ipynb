{
 "cells": [
  {
   "cell_type": "markdown",
   "metadata": {},
   "source": [
    "### Array ADT"
   ]
  },
  {
   "cell_type": "markdown",
   "metadata": {},
   "source": [
    "**Creating Dynamic Array**"
   ]
  },
  {
   "cell_type": "code",
   "execution_count": 1,
   "metadata": {},
   "outputs": [
    {
     "name": "stdout",
     "output_type": "stream",
     "text": [
      "Enter all Elements\n"
     ]
    }
   ],
   "source": [
    "# Creating array of dynamic size\n",
    "size = int(input(\"Enter the size\"))\n",
    "arr = [None] * size\n",
    "\n",
    "n = int(input(\"Enter number of numbers\"))\n",
    "\n",
    "print(\"Enter all Elements\")\n",
    "for i in range(n):\n",
    "    arr[i] = int(input())\n",
    "\n",
    "length = n"
   ]
  },
  {
   "cell_type": "markdown",
   "metadata": {},
   "source": [
    "**Display Array**"
   ]
  },
  {
   "cell_type": "code",
   "execution_count": 2,
   "metadata": {},
   "outputs": [
    {
     "name": "stdout",
     "output_type": "stream",
     "text": [
      "2\n",
      "3\n",
      "4\n",
      "5\n",
      "6\n"
     ]
    }
   ],
   "source": [
    "def display():\n",
    "    for i in range(length):\n",
    "        print(arr[i])\n",
    "\n",
    "display()"
   ]
  },
  {
   "cell_type": "markdown",
   "metadata": {},
   "source": [
    "**Add/ Append Element in Array**"
   ]
  },
  {
   "cell_type": "code",
   "execution_count": 3,
   "metadata": {},
   "outputs": [
    {
     "name": "stdout",
     "output_type": "stream",
     "text": [
      "2\n",
      "3\n",
      "4\n",
      "5\n",
      "6\n",
      "10\n"
     ]
    }
   ],
   "source": [
    "# Append element in the end\n",
    "def append(x):\n",
    "    global arr, size, length\n",
    "    if (length < size):\n",
    "        arr[length] = x\n",
    "    length += 1\n",
    "\n",
    "append(10)\n",
    "        \n",
    "display()"
   ]
  },
  {
   "cell_type": "markdown",
   "metadata": {},
   "source": [
    "**Insert Element in Array**"
   ]
  },
  {
   "cell_type": "code",
   "execution_count": 4,
   "metadata": {},
   "outputs": [
    {
     "name": "stdout",
     "output_type": "stream",
     "text": [
      "2\n",
      "3\n",
      "4\n",
      "5\n",
      "6\n",
      "10\n",
      "11\n"
     ]
    }
   ],
   "source": [
    "# Insert element at the particular index of an array\n",
    "def insert(idx, x):\n",
    "    global arr, size, length\n",
    "    if idx >= 0 and idx <= length:\n",
    "        for i in range(length, idx, -1):\n",
    "            arr[i] = arr[i-1]\n",
    "        arr[idx] = x\n",
    "        length += 1\n",
    "\n",
    "insert(6, 11)\n",
    "display() "
   ]
  },
  {
   "cell_type": "code",
   "execution_count": 5,
   "metadata": {},
   "outputs": [
    {
     "name": "stdout",
     "output_type": "stream",
     "text": [
      "12\n",
      "2\n",
      "3\n",
      "4\n",
      "5\n",
      "6\n",
      "10\n",
      "11\n"
     ]
    }
   ],
   "source": [
    "insert(0, 12)\n",
    "display()"
   ]
  },
  {
   "cell_type": "code",
   "execution_count": 6,
   "metadata": {},
   "outputs": [
    {
     "name": "stdout",
     "output_type": "stream",
     "text": [
      "12\n",
      "2\n",
      "14\n",
      "3\n",
      "4\n",
      "5\n",
      "6\n",
      "10\n",
      "11\n"
     ]
    }
   ],
   "source": [
    "insert(2, 14)\n",
    "display()"
   ]
  },
  {
   "cell_type": "markdown",
   "metadata": {},
   "source": [
    "**Delete Element from Array**"
   ]
  },
  {
   "cell_type": "code",
   "execution_count": 7,
   "metadata": {},
   "outputs": [
    {
     "data": {
      "text/plain": [
       "11"
      ]
     },
     "execution_count": 7,
     "metadata": {},
     "output_type": "execute_result"
    }
   ],
   "source": [
    "def delete(idx):\n",
    "    global arr, size, length\n",
    "\n",
    "    if idx >= 0 and idx < length:\n",
    "        element = arr[idx]\n",
    "        for i in range(idx, length-1):\n",
    "            arr[i] = arr[i+1]\n",
    "        arr[length-1] = None\n",
    "        length -= 1\n",
    "        return element\n",
    "\n",
    "delete(8)"
   ]
  },
  {
   "cell_type": "code",
   "execution_count": 8,
   "metadata": {},
   "outputs": [
    {
     "name": "stdout",
     "output_type": "stream",
     "text": [
      "8\n",
      "[12, 2, 14, 3, 4, 5, 6, 10, None, None]\n"
     ]
    }
   ],
   "source": [
    "print(length)\n",
    "print(arr)"
   ]
  },
  {
   "cell_type": "code",
   "execution_count": 9,
   "metadata": {},
   "outputs": [
    {
     "data": {
      "text/plain": [
       "12"
      ]
     },
     "execution_count": 9,
     "metadata": {},
     "output_type": "execute_result"
    }
   ],
   "source": [
    "delete(0)"
   ]
  },
  {
   "cell_type": "code",
   "execution_count": 10,
   "metadata": {},
   "outputs": [
    {
     "name": "stdout",
     "output_type": "stream",
     "text": [
      "7\n",
      "[2, 14, 3, 4, 5, 6, 10, None, None, None]\n"
     ]
    }
   ],
   "source": [
    "print(length)\n",
    "print(arr)"
   ]
  },
  {
   "cell_type": "markdown",
   "metadata": {},
   "source": [
    "**Linear Search**"
   ]
  },
  {
   "cell_type": "code",
   "execution_count": 11,
   "metadata": {},
   "outputs": [
    {
     "name": "stdout",
     "output_type": "stream",
     "text": [
      "[2, 14, 3, 4, 5, 6, 10, None, None, None]\n",
      "3\n",
      "-1\n"
     ]
    }
   ],
   "source": [
    "# Base\n",
    "def linear_search(key):\n",
    "    global arr, size, length\n",
    "    for i in range(length):\n",
    "        if arr[i] == key:\n",
    "            return i\n",
    "    return -1\n",
    "\n",
    "print(arr)\n",
    "print(linear_search(4))\n",
    "print(linear_search(50))"
   ]
  },
  {
   "cell_type": "code",
   "execution_count": 12,
   "metadata": {},
   "outputs": [],
   "source": [
    "def swap(x, y):\n",
    "    x, y = y, x\n",
    "    return x, y"
   ]
  },
  {
   "cell_type": "code",
   "execution_count": 13,
   "metadata": {},
   "outputs": [
    {
     "data": {
      "text/plain": [
       "5"
      ]
     },
     "execution_count": 13,
     "metadata": {},
     "output_type": "execute_result"
    }
   ],
   "source": [
    "# Improvement - Transposition\n",
    "def linear_search_transposition(key):\n",
    "    global arr, size, length\n",
    "    for i in range(length):\n",
    "        if arr[i] == key:\n",
    "            arr[i], arr[i-1] = swap(arr[i], arr[i-1])\n",
    "            return i\n",
    "    return -1\n",
    "\n",
    "linear_search_transposition(6)"
   ]
  },
  {
   "cell_type": "code",
   "execution_count": 14,
   "metadata": {},
   "outputs": [
    {
     "name": "stdout",
     "output_type": "stream",
     "text": [
      "[2, 14, 3, 4, 6, 5, 10, None, None, None]\n"
     ]
    }
   ],
   "source": [
    "print(arr)"
   ]
  },
  {
   "cell_type": "code",
   "execution_count": 15,
   "metadata": {},
   "outputs": [
    {
     "data": {
      "text/plain": [
       "5"
      ]
     },
     "execution_count": 15,
     "metadata": {},
     "output_type": "execute_result"
    }
   ],
   "source": [
    "# Improvement - Move to header\n",
    "def linear_search_move_to_header(key):\n",
    "    global arr, size, length\n",
    "    for i in range(length):\n",
    "        if arr[i] == key:\n",
    "            arr[i], arr[0] = swap(arr[i], arr[0])\n",
    "            return i\n",
    "    return -1\n",
    "\n",
    "linear_search_move_to_header(5)"
   ]
  },
  {
   "cell_type": "code",
   "execution_count": 16,
   "metadata": {},
   "outputs": [
    {
     "name": "stdout",
     "output_type": "stream",
     "text": [
      "[5, 14, 3, 4, 6, 2, 10, None, None, None]\n"
     ]
    }
   ],
   "source": [
    "print(arr)"
   ]
  },
  {
   "cell_type": "markdown",
   "metadata": {},
   "source": [
    "**Binary Search**"
   ]
  },
  {
   "cell_type": "code",
   "execution_count": 17,
   "metadata": {},
   "outputs": [],
   "source": [
    "arr_bs = [2, 3, 4, 5, 6, 7, None, None, None, None]\n",
    "size = 10\n",
    "length = 6"
   ]
  },
  {
   "cell_type": "code",
   "execution_count": 18,
   "metadata": {},
   "outputs": [
    {
     "name": "stdout",
     "output_type": "stream",
     "text": [
      "3\n",
      "0\n",
      "-1\n",
      "2\n"
     ]
    }
   ],
   "source": [
    "# Base\n",
    "def binary_search_loop(key):\n",
    "    global arr_bs, size, length\n",
    "    l, h = 0, length - 1\n",
    "    while (l <= h):\n",
    "        mid = (l + h)//2\n",
    "        if key == arr_bs[mid]:\n",
    "            return mid\n",
    "        elif key < arr_bs[mid]:\n",
    "            h = mid -1\n",
    "        else:\n",
    "            l = mid + 1\n",
    "    return -1\n",
    "\n",
    "print(binary_search_loop(5))\n",
    "print(binary_search_loop(2))\n",
    "print(binary_search_loop(10))\n",
    "print(binary_search_loop(4))"
   ]
  },
  {
   "cell_type": "code",
   "execution_count": 19,
   "metadata": {},
   "outputs": [
    {
     "name": "stdout",
     "output_type": "stream",
     "text": [
      "3\n",
      "0\n",
      "-1\n",
      "2\n"
     ]
    }
   ],
   "source": [
    "# Recursion\n",
    "def binary_search_rec(l, h, key):\n",
    "    if l <= h:\n",
    "        mid = (l+h)//2\n",
    "        if key == arr_bs[mid]:\n",
    "            return mid\n",
    "        elif key < arr_bs[mid]:\n",
    "            return binary_search_rec(l, mid-1, key)\n",
    "        else:\n",
    "            return binary_search_rec(mid+1, h, key)    \n",
    "    return -1\n",
    "    \n",
    "print(binary_search_rec(0, length-1, 5))\n",
    "print(binary_search_rec(0, length-1, 2))\n",
    "print(binary_search_rec(0, length-1, 10))\n",
    "print(binary_search_rec(0, length-1, 4))"
   ]
  },
  {
   "cell_type": "markdown",
   "metadata": {},
   "source": [
    "**Get/ Set/ Max**"
   ]
  },
  {
   "cell_type": "code",
   "execution_count": 28,
   "metadata": {},
   "outputs": [],
   "source": [
    "def get(index):\n",
    "    global arr, size, length\n",
    "    if index >= 0 and index < length:\n",
    "        return arr[index]\n",
    "    return -1\n",
    "\n",
    "def set(index, x):\n",
    "    global arr, size, length\n",
    "    if index >= 0 and index < length:\n",
    "        arr[index] = x\n",
    "    return arr\n",
    "\n",
    "def max():\n",
    "    global arr, size, length\n",
    "    max = arr[0]\n",
    "    for i in range(length):\n",
    "        if arr[i] > max:\n",
    "            max = arr[i]\n",
    "    return max\n",
    "\n",
    "def min():\n",
    "    global arr, size, length\n",
    "    min = arr[0]\n",
    "    for i in range(length):\n",
    "        if arr[i] < min:\n",
    "            min = arr[i]\n",
    "    return min\n",
    "\n",
    "def sum():\n",
    "    global arr, size, length\n",
    "    total = 0\n",
    "    for i in range(length):\n",
    "        total += arr[i]\n",
    "    return total\n",
    "\n",
    "def avg():\n",
    "    global arr, size, length\n",
    "    return sum()/length"
   ]
  },
  {
   "cell_type": "code",
   "execution_count": 30,
   "metadata": {},
   "outputs": [
    {
     "name": "stdout",
     "output_type": "stream",
     "text": [
      "Array:  [15, 14, 3, 4, 6, 2, 10, None, None, None]\n",
      "3\n",
      "[25, 14, 3, 4, 6, 2, 10, None, None, None]\n",
      "25\n",
      "2\n",
      "54\n",
      "9.0\n"
     ]
    }
   ],
   "source": [
    "print(\"Array: \", arr)\n",
    "print(get(2))\n",
    "print(set(0, 25))\n",
    "print(max())\n",
    "print(min())\n",
    "print(sum())\n",
    "print(avg())\n"
   ]
  },
  {
   "cell_type": "markdown",
   "metadata": {},
   "source": [
    "**Reversing - Two Pointers**"
   ]
  },
  {
   "cell_type": "code",
   "execution_count": 38,
   "metadata": {},
   "outputs": [],
   "source": [
    "def reverse_two_pointer(array):\n",
    "    i = 0\n",
    "    j = len(array) - 1\n",
    "    while i < j:\n",
    "        array[i], array[j] = array[j], array[i]\n",
    "        i += 1\n",
    "        j -= 1\n",
    "    return array"
   ]
  },
  {
   "cell_type": "code",
   "execution_count": 39,
   "metadata": {},
   "outputs": [
    {
     "data": {
      "text/plain": [
       "[10, 6, 15, 9, 3, 8]"
      ]
     },
     "execution_count": 39,
     "metadata": {},
     "output_type": "execute_result"
    }
   ],
   "source": [
    "array_even = [8, 3, 9, 15, 6, 10]\n",
    "reverse_two_pointer(array_even)"
   ]
  },
  {
   "cell_type": "code",
   "execution_count": 61,
   "metadata": {},
   "outputs": [
    {
     "data": {
      "text/plain": [
       "[6, 15, 9, 3, 8]"
      ]
     },
     "execution_count": 61,
     "metadata": {},
     "output_type": "execute_result"
    }
   ],
   "source": [
    "array_odd = [8, 3, 9, 15, 6]\n",
    "reverse_two_pointer(array_odd)"
   ]
  },
  {
   "cell_type": "markdown",
   "metadata": {},
   "source": [
    "**Reverse Array - Using Aux Array**"
   ]
  },
  {
   "cell_type": "code",
   "execution_count": 68,
   "metadata": {},
   "outputs": [
    {
     "data": {
      "text/plain": [
       "[10, 6, 15, 9, 3, 8]"
      ]
     },
     "execution_count": 68,
     "metadata": {},
     "output_type": "execute_result"
    }
   ],
   "source": [
    "def reverse(array):\n",
    "    array_aux = []\n",
    "    for i in range(len(array)-1, -1, -1):\n",
    "        array_aux.append(array[i])\n",
    "    \n",
    "    for i in range(len(array)):\n",
    "        array[i] = array_aux[i]\n",
    "\n",
    "    return array\n",
    "\n",
    "array = [8, 3, 9, 15, 6, 10]\n",
    "reverse(array=array)"
   ]
  },
  {
   "cell_type": "markdown",
   "metadata": {},
   "source": [
    "**Left Shift/ Rotation**"
   ]
  },
  {
   "cell_type": "code",
   "execution_count": 62,
   "metadata": {},
   "outputs": [
    {
     "data": {
      "text/plain": [
       "[15, 9, 3, 8, 0]"
      ]
     },
     "execution_count": 62,
     "metadata": {},
     "output_type": "execute_result"
    }
   ],
   "source": [
    "def left_shift(array):\n",
    "    for i in range(len(array)-1):\n",
    "        array[i] = array[i+1]\n",
    "    array[len(array) - 1] =0\n",
    "    return array\n",
    "\n",
    "def left_rotation(array):\n",
    "    first_ele = array[0]\n",
    "    for i in range(len(array)-1):\n",
    "        array[i] = array[i+1]\n",
    "    array[len(array) - 1] = first_ele\n",
    "    return array\n",
    "\n",
    "array_odd_copy = array_odd.copy()\n",
    "\n",
    "left_shift(array_odd_copy)"
   ]
  },
  {
   "cell_type": "code",
   "execution_count": 65,
   "metadata": {},
   "outputs": [
    {
     "name": "stdout",
     "output_type": "stream",
     "text": [
      "[6, 15, 9, 3, 8]\n"
     ]
    },
    {
     "data": {
      "text/plain": [
       "[15, 9, 3, 8, 6]"
      ]
     },
     "execution_count": 65,
     "metadata": {},
     "output_type": "execute_result"
    }
   ],
   "source": [
    "print(array_odd)\n",
    "left_rotation(array_odd.copy())"
   ]
  },
  {
   "cell_type": "markdown",
   "metadata": {},
   "source": [
    "**Right Shift/ Rotation**"
   ]
  },
  {
   "cell_type": "code",
   "execution_count": 77,
   "metadata": {},
   "outputs": [],
   "source": [
    "def right_shift(array):\n",
    "    for i in range(len(array)-1, 0, -1):\n",
    "        array[i] = array[i-1]\n",
    "    array[0] = 0\n",
    "    return array\n",
    "\n",
    "def right_rotation(array):\n",
    "    last_ele = array[len(array)-1]\n",
    "    for i in range(len(array)-1, 0, -1):\n",
    "        array[i] = array[i-1]\n",
    "    array[0] = last_ele\n",
    "    return array\n",
    "\n",
    "array = [6, 15, 9, 3, 8]"
   ]
  },
  {
   "cell_type": "code",
   "execution_count": 78,
   "metadata": {},
   "outputs": [
    {
     "data": {
      "text/plain": [
       "[0, 6, 15, 9, 3]"
      ]
     },
     "execution_count": 78,
     "metadata": {},
     "output_type": "execute_result"
    }
   ],
   "source": [
    "right_shift(array.copy())"
   ]
  },
  {
   "cell_type": "code",
   "execution_count": 79,
   "metadata": {},
   "outputs": [
    {
     "data": {
      "text/plain": [
       "[8, 6, 15, 9, 3]"
      ]
     },
     "execution_count": 79,
     "metadata": {},
     "output_type": "execute_result"
    }
   ],
   "source": [
    "right_rotation(array.copy())"
   ]
  },
  {
   "cell_type": "code",
   "execution_count": null,
   "metadata": {},
   "outputs": [],
   "source": []
  }
 ],
 "metadata": {
  "kernelspec": {
   "display_name": "Python 3",
   "language": "python",
   "name": "python3"
  },
  "language_info": {
   "codemirror_mode": {
    "name": "ipython",
    "version": 3
   },
   "file_extension": ".py",
   "mimetype": "text/x-python",
   "name": "python",
   "nbconvert_exporter": "python",
   "pygments_lexer": "ipython3",
   "version": "3.9.6"
  },
  "orig_nbformat": 4
 },
 "nbformat": 4,
 "nbformat_minor": 2
}
