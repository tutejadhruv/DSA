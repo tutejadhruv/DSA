{
 "cells": [
  {
   "cell_type": "markdown",
   "metadata": {},
   "source": [
    "### Array ADT"
   ]
  },
  {
   "cell_type": "markdown",
   "metadata": {},
   "source": [
    "**Creating Dynamic Array**"
   ]
  },
  {
   "cell_type": "code",
   "execution_count": 1,
   "metadata": {},
   "outputs": [
    {
     "name": "stdout",
     "output_type": "stream",
     "text": [
      "Enter all Elements\n"
     ]
    }
   ],
   "source": [
    "# Creating array of dynamic size\n",
    "size = int(input(\"Enter the size\"))\n",
    "arr = [None] * size\n",
    "\n",
    "n = int(input(\"Enter number of numbers\"))\n",
    "\n",
    "print(\"Enter all Elements\")\n",
    "for i in range(n):\n",
    "    arr[i] = int(input())\n",
    "\n",
    "length = n"
   ]
  },
  {
   "cell_type": "markdown",
   "metadata": {},
   "source": [
    "**Display Array**"
   ]
  },
  {
   "cell_type": "code",
   "execution_count": 2,
   "metadata": {},
   "outputs": [
    {
     "name": "stdout",
     "output_type": "stream",
     "text": [
      "2\n",
      "3\n",
      "4\n",
      "5\n",
      "6\n"
     ]
    }
   ],
   "source": [
    "def display():\n",
    "    for i in range(length):\n",
    "        print(arr[i])\n",
    "\n",
    "display()"
   ]
  },
  {
   "cell_type": "markdown",
   "metadata": {},
   "source": [
    "**Add/ Append Element in Array**"
   ]
  },
  {
   "cell_type": "code",
   "execution_count": 3,
   "metadata": {},
   "outputs": [
    {
     "name": "stdout",
     "output_type": "stream",
     "text": [
      "2\n",
      "3\n",
      "4\n",
      "5\n",
      "6\n",
      "10\n"
     ]
    }
   ],
   "source": [
    "# Append element in the end\n",
    "def append(x):\n",
    "    global arr, size, length\n",
    "    if (length < size):\n",
    "        arr[length] = x\n",
    "    length += 1\n",
    "\n",
    "append(10)\n",
    "        \n",
    "display()"
   ]
  },
  {
   "cell_type": "markdown",
   "metadata": {},
   "source": [
    "**Insert Element in Array**"
   ]
  },
  {
   "cell_type": "code",
   "execution_count": 4,
   "metadata": {},
   "outputs": [
    {
     "name": "stdout",
     "output_type": "stream",
     "text": [
      "2\n",
      "3\n",
      "4\n",
      "5\n",
      "6\n",
      "10\n",
      "11\n"
     ]
    }
   ],
   "source": [
    "# Insert element at the particular index of an array\n",
    "def insert(idx, x):\n",
    "    global arr, size, length\n",
    "    if idx >= 0 and idx <= length:\n",
    "        for i in range(length, idx, -1):\n",
    "            arr[i] = arr[i-1]\n",
    "        arr[idx] = x\n",
    "        length += 1\n",
    "\n",
    "insert(6, 11)\n",
    "display() "
   ]
  },
  {
   "cell_type": "code",
   "execution_count": 5,
   "metadata": {},
   "outputs": [
    {
     "name": "stdout",
     "output_type": "stream",
     "text": [
      "12\n",
      "2\n",
      "3\n",
      "4\n",
      "5\n",
      "6\n",
      "10\n",
      "11\n"
     ]
    }
   ],
   "source": [
    "insert(0, 12)\n",
    "display()"
   ]
  },
  {
   "cell_type": "code",
   "execution_count": 6,
   "metadata": {},
   "outputs": [
    {
     "name": "stdout",
     "output_type": "stream",
     "text": [
      "12\n",
      "2\n",
      "14\n",
      "3\n",
      "4\n",
      "5\n",
      "6\n",
      "10\n",
      "11\n"
     ]
    }
   ],
   "source": [
    "insert(2, 14)\n",
    "display()"
   ]
  },
  {
   "cell_type": "markdown",
   "metadata": {},
   "source": [
    "**Delete Element from Array**"
   ]
  },
  {
   "cell_type": "code",
   "execution_count": 7,
   "metadata": {},
   "outputs": [
    {
     "data": {
      "text/plain": [
       "11"
      ]
     },
     "execution_count": 7,
     "metadata": {},
     "output_type": "execute_result"
    }
   ],
   "source": [
    "def delete(idx):\n",
    "    global arr, size, length\n",
    "\n",
    "    if idx >= 0 and idx < length:\n",
    "        element = arr[idx]\n",
    "        for i in range(idx, length-1):\n",
    "            arr[i] = arr[i+1]\n",
    "        arr[length-1] = None\n",
    "        length -= 1\n",
    "        return element\n",
    "\n",
    "delete(8)"
   ]
  },
  {
   "cell_type": "code",
   "execution_count": 8,
   "metadata": {},
   "outputs": [
    {
     "name": "stdout",
     "output_type": "stream",
     "text": [
      "8\n",
      "[12, 2, 14, 3, 4, 5, 6, 10, None, None]\n"
     ]
    }
   ],
   "source": [
    "print(length)\n",
    "print(arr)"
   ]
  },
  {
   "cell_type": "code",
   "execution_count": 9,
   "metadata": {},
   "outputs": [
    {
     "data": {
      "text/plain": [
       "12"
      ]
     },
     "execution_count": 9,
     "metadata": {},
     "output_type": "execute_result"
    }
   ],
   "source": [
    "delete(0)"
   ]
  },
  {
   "cell_type": "code",
   "execution_count": 10,
   "metadata": {},
   "outputs": [
    {
     "name": "stdout",
     "output_type": "stream",
     "text": [
      "7\n",
      "[2, 14, 3, 4, 5, 6, 10, None, None, None]\n"
     ]
    }
   ],
   "source": [
    "print(length)\n",
    "print(arr)"
   ]
  },
  {
   "cell_type": "markdown",
   "metadata": {},
   "source": [
    "**Linear Search**"
   ]
  },
  {
   "cell_type": "code",
   "execution_count": 11,
   "metadata": {},
   "outputs": [
    {
     "name": "stdout",
     "output_type": "stream",
     "text": [
      "[2, 14, 3, 4, 5, 6, 10, None, None, None]\n",
      "3\n",
      "-1\n"
     ]
    }
   ],
   "source": [
    "# Base\n",
    "def linear_search(key):\n",
    "    global arr, size, length\n",
    "    for i in range(length):\n",
    "        if arr[i] == key:\n",
    "            return i\n",
    "    return -1\n",
    "\n",
    "print(arr)\n",
    "print(linear_search(4))\n",
    "print(linear_search(50))"
   ]
  },
  {
   "cell_type": "code",
   "execution_count": 12,
   "metadata": {},
   "outputs": [],
   "source": [
    "def swap(x, y):\n",
    "    x, y = y, x\n",
    "    return x, y"
   ]
  },
  {
   "cell_type": "code",
   "execution_count": 13,
   "metadata": {},
   "outputs": [
    {
     "data": {
      "text/plain": [
       "5"
      ]
     },
     "execution_count": 13,
     "metadata": {},
     "output_type": "execute_result"
    }
   ],
   "source": [
    "# Improvement - Transposition\n",
    "def linear_search_transposition(key):\n",
    "    global arr, size, length\n",
    "    for i in range(length):\n",
    "        if arr[i] == key:\n",
    "            arr[i], arr[i-1] = swap(arr[i], arr[i-1])\n",
    "            return i\n",
    "    return -1\n",
    "\n",
    "linear_search_transposition(6)"
   ]
  },
  {
   "cell_type": "code",
   "execution_count": 14,
   "metadata": {},
   "outputs": [
    {
     "name": "stdout",
     "output_type": "stream",
     "text": [
      "[2, 14, 3, 4, 6, 5, 10, None, None, None]\n"
     ]
    }
   ],
   "source": [
    "print(arr)"
   ]
  },
  {
   "cell_type": "code",
   "execution_count": 15,
   "metadata": {},
   "outputs": [
    {
     "data": {
      "text/plain": [
       "5"
      ]
     },
     "execution_count": 15,
     "metadata": {},
     "output_type": "execute_result"
    }
   ],
   "source": [
    "# Improvement - Move to header\n",
    "def linear_search_move_to_header(key):\n",
    "    global arr, size, length\n",
    "    for i in range(length):\n",
    "        if arr[i] == key:\n",
    "            arr[i], arr[0] = swap(arr[i], arr[0])\n",
    "            return 0\n",
    "    return -1\n",
    "\n",
    "linear_search_move_to_header(5)"
   ]
  },
  {
   "cell_type": "code",
   "execution_count": 16,
   "metadata": {},
   "outputs": [
    {
     "name": "stdout",
     "output_type": "stream",
     "text": [
      "[5, 14, 3, 4, 6, 2, 10, None, None, None]\n"
     ]
    }
   ],
   "source": [
    "print(arr)"
   ]
  },
  {
   "cell_type": "markdown",
   "metadata": {},
   "source": [
    "**Binary Search**"
   ]
  },
  {
   "cell_type": "code",
   "execution_count": 17,
   "metadata": {},
   "outputs": [],
   "source": [
    "arr_bs = [2, 3, 4, 5, 6, 7, None, None, None, None]\n",
    "size = 10\n",
    "length = 6"
   ]
  },
  {
   "cell_type": "code",
   "execution_count": 18,
   "metadata": {},
   "outputs": [
    {
     "name": "stdout",
     "output_type": "stream",
     "text": [
      "3\n",
      "0\n",
      "-1\n",
      "2\n"
     ]
    }
   ],
   "source": [
    "# Base\n",
    "def binary_search_loop(key):\n",
    "    global arr_bs, size, length\n",
    "    l, h = 0, length - 1\n",
    "    while (l <= h):\n",
    "        mid = (l + h)//2\n",
    "        if key == arr_bs[mid]:\n",
    "            return mid\n",
    "        elif key < arr_bs[mid]:\n",
    "            h = mid -1\n",
    "        else:\n",
    "            l = mid + 1\n",
    "    return -1\n",
    "\n",
    "print(binary_search_loop(5))\n",
    "print(binary_search_loop(2))\n",
    "print(binary_search_loop(10))\n",
    "print(binary_search_loop(4))"
   ]
  },
  {
   "cell_type": "code",
   "execution_count": 19,
   "metadata": {},
   "outputs": [
    {
     "name": "stdout",
     "output_type": "stream",
     "text": [
      "3\n",
      "0\n",
      "-1\n",
      "2\n"
     ]
    }
   ],
   "source": [
    "# Recursion\n",
    "def binary_search_rec(l, h, key):\n",
    "    if l <= h:\n",
    "        mid = (l+h)//2\n",
    "        if key == arr_bs[mid]:\n",
    "            return mid\n",
    "        elif key < arr_bs[mid]:\n",
    "            return binary_search_rec(l, mid-1, key)\n",
    "        else:\n",
    "            return binary_search_rec(mid+1, h, key)    \n",
    "    return -1\n",
    "    \n",
    "print(binary_search_rec(0, length-1, 5))\n",
    "print(binary_search_rec(0, length-1, 2))\n",
    "print(binary_search_rec(0, length-1, 10))\n",
    "print(binary_search_rec(0, length-1, 4))"
   ]
  },
  {
   "cell_type": "markdown",
   "metadata": {},
   "source": [
    "**Get/ Set/ Max**"
   ]
  },
  {
   "cell_type": "code",
   "execution_count": 28,
   "metadata": {},
   "outputs": [],
   "source": [
    "def get(index):\n",
    "    global arr, size, length\n",
    "    if index >= 0 and index < length:\n",
    "        return arr[index]\n",
    "    return -1\n",
    "\n",
    "def set(index, x):\n",
    "    global arr, size, length\n",
    "    if index >= 0 and index < length:\n",
    "        arr[index] = x\n",
    "    return arr\n",
    "\n",
    "def max():\n",
    "    global arr, size, length\n",
    "    max = arr[0]\n",
    "    for i in range(length):\n",
    "        if arr[i] > max:\n",
    "            max = arr[i]\n",
    "    return max\n",
    "\n",
    "def min():\n",
    "    global arr, size, length\n",
    "    min = arr[0]\n",
    "    for i in range(length):\n",
    "        if arr[i] < min:\n",
    "            min = arr[i]\n",
    "    return min\n",
    "\n",
    "def sum():\n",
    "    global arr, size, length\n",
    "    total = 0\n",
    "    for i in range(length):\n",
    "        total += arr[i]\n",
    "    return total\n",
    "\n",
    "def avg():\n",
    "    global arr, size, length\n",
    "    return sum()/length"
   ]
  },
  {
   "cell_type": "code",
   "execution_count": 30,
   "metadata": {},
   "outputs": [
    {
     "name": "stdout",
     "output_type": "stream",
     "text": [
      "Array:  [15, 14, 3, 4, 6, 2, 10, None, None, None]\n",
      "3\n",
      "[25, 14, 3, 4, 6, 2, 10, None, None, None]\n",
      "25\n",
      "2\n",
      "54\n",
      "9.0\n"
     ]
    }
   ],
   "source": [
    "print(\"Array: \", arr)\n",
    "print(get(2))\n",
    "print(set(0, 25))\n",
    "print(max())\n",
    "print(min())\n",
    "print(sum())\n",
    "print(avg())\n"
   ]
  },
  {
   "cell_type": "markdown",
   "metadata": {},
   "source": [
    "**Reversing - Two Pointers**"
   ]
  },
  {
   "cell_type": "code",
   "execution_count": 38,
   "metadata": {},
   "outputs": [],
   "source": [
    "def reverse_two_pointer(array):\n",
    "    i = 0\n",
    "    j = len(array) - 1\n",
    "    while i < j:\n",
    "        array[i], array[j] = array[j], array[i]\n",
    "        i += 1\n",
    "        j -= 1\n",
    "    return array"
   ]
  },
  {
   "cell_type": "code",
   "execution_count": 39,
   "metadata": {},
   "outputs": [
    {
     "data": {
      "text/plain": [
       "[10, 6, 15, 9, 3, 8]"
      ]
     },
     "execution_count": 39,
     "metadata": {},
     "output_type": "execute_result"
    }
   ],
   "source": [
    "array_even = [8, 3, 9, 15, 6, 10]\n",
    "reverse_two_pointer(array_even)"
   ]
  },
  {
   "cell_type": "code",
   "execution_count": 61,
   "metadata": {},
   "outputs": [
    {
     "data": {
      "text/plain": [
       "[6, 15, 9, 3, 8]"
      ]
     },
     "execution_count": 61,
     "metadata": {},
     "output_type": "execute_result"
    }
   ],
   "source": [
    "array_odd = [8, 3, 9, 15, 6]\n",
    "reverse_two_pointer(array_odd)"
   ]
  },
  {
   "cell_type": "markdown",
   "metadata": {},
   "source": [
    "**Reverse Array - Using Aux Array**"
   ]
  },
  {
   "cell_type": "code",
   "execution_count": 68,
   "metadata": {},
   "outputs": [
    {
     "data": {
      "text/plain": [
       "[10, 6, 15, 9, 3, 8]"
      ]
     },
     "execution_count": 68,
     "metadata": {},
     "output_type": "execute_result"
    }
   ],
   "source": [
    "def reverse(array):\n",
    "    array_aux = []\n",
    "    for i in range(len(array)-1, -1, -1):\n",
    "        array_aux.append(array[i])\n",
    "    \n",
    "    for i in range(len(array)):\n",
    "        array[i] = array_aux[i]\n",
    "\n",
    "    return array\n",
    "\n",
    "array = [8, 3, 9, 15, 6, 10]\n",
    "reverse(array=array)"
   ]
  },
  {
   "cell_type": "markdown",
   "metadata": {},
   "source": [
    "**Left Shift/ Rotation**"
   ]
  },
  {
   "cell_type": "code",
   "execution_count": 62,
   "metadata": {},
   "outputs": [
    {
     "data": {
      "text/plain": [
       "[15, 9, 3, 8, 0]"
      ]
     },
     "execution_count": 62,
     "metadata": {},
     "output_type": "execute_result"
    }
   ],
   "source": [
    "def left_shift(array):\n",
    "    for i in range(len(array)-1):\n",
    "        array[i] = array[i+1]\n",
    "    array[len(array) - 1] =0\n",
    "    return array\n",
    "\n",
    "def left_rotation(array):\n",
    "    first_ele = array[0]\n",
    "    for i in range(len(array)-1):\n",
    "        array[i] = array[i+1]\n",
    "    array[len(array) - 1] = first_ele\n",
    "    return array\n",
    "\n",
    "array_odd_copy = array_odd.copy()\n",
    "\n",
    "left_shift(array_odd_copy)"
   ]
  },
  {
   "cell_type": "code",
   "execution_count": 65,
   "metadata": {},
   "outputs": [
    {
     "name": "stdout",
     "output_type": "stream",
     "text": [
      "[6, 15, 9, 3, 8]\n"
     ]
    },
    {
     "data": {
      "text/plain": [
       "[15, 9, 3, 8, 6]"
      ]
     },
     "execution_count": 65,
     "metadata": {},
     "output_type": "execute_result"
    }
   ],
   "source": [
    "print(array_odd)\n",
    "left_rotation(array_odd.copy())"
   ]
  },
  {
   "cell_type": "markdown",
   "metadata": {},
   "source": [
    "**Right Shift/ Rotation**"
   ]
  },
  {
   "cell_type": "code",
   "execution_count": 77,
   "metadata": {},
   "outputs": [],
   "source": [
    "def right_shift(array):\n",
    "    for i in range(len(array)-1, 0, -1):\n",
    "        array[i] = array[i-1]\n",
    "    array[0] = 0\n",
    "    return array\n",
    "\n",
    "def right_rotation(array):\n",
    "    last_ele = array[len(array)-1]\n",
    "    for i in range(len(array)-1, 0, -1):\n",
    "        array[i] = array[i-1]\n",
    "    array[0] = last_ele\n",
    "    return array\n",
    "\n",
    "array = [6, 15, 9, 3, 8]"
   ]
  },
  {
   "cell_type": "code",
   "execution_count": 78,
   "metadata": {},
   "outputs": [
    {
     "data": {
      "text/plain": [
       "[0, 6, 15, 9, 3]"
      ]
     },
     "execution_count": 78,
     "metadata": {},
     "output_type": "execute_result"
    }
   ],
   "source": [
    "right_shift(array.copy())"
   ]
  },
  {
   "cell_type": "code",
   "execution_count": 79,
   "metadata": {},
   "outputs": [
    {
     "data": {
      "text/plain": [
       "[8, 6, 15, 9, 3]"
      ]
     },
     "execution_count": 79,
     "metadata": {},
     "output_type": "execute_result"
    }
   ],
   "source": [
    "right_rotation(array.copy())"
   ]
  },
  {
   "cell_type": "markdown",
   "metadata": {},
   "source": [
    "**Inserting Element in sorted array**"
   ]
  },
  {
   "cell_type": "code",
   "execution_count": 160,
   "metadata": {},
   "outputs": [],
   "source": [
    "array = [2,3,5,10,15,None,None,None,None,None]\n",
    "size = 10\n",
    "length = 5"
   ]
  },
  {
   "cell_type": "code",
   "execution_count": 161,
   "metadata": {},
   "outputs": [],
   "source": [
    "def insert_sort(x):\n",
    "    global array, size, length\n",
    "    print(\"Array before insert: \", array)\n",
    "    \n",
    "    if length == size:\n",
    "        return\n",
    "    \n",
    "    i = length - 1\n",
    "    while i >= 0 and array[i] > x:\n",
    "        array[i+1] = array[i]\n",
    "        i -= 1\n",
    "    \n",
    "    array[i+1] = x\n",
    "    length += 1\n",
    "    print(\"Array after insert: \", array)"
   ]
  },
  {
   "cell_type": "code",
   "execution_count": 162,
   "metadata": {},
   "outputs": [
    {
     "name": "stdout",
     "output_type": "stream",
     "text": [
      "Array before insert:  [2, 3, 5, 10, 15, None, None, None, None, None]\n",
      "Array after insert:  [2, 3, 5, 7, 10, 15, None, None, None, None]\n"
     ]
    }
   ],
   "source": [
    "insert_sort(7)"
   ]
  },
  {
   "cell_type": "code",
   "execution_count": 163,
   "metadata": {},
   "outputs": [
    {
     "name": "stdout",
     "output_type": "stream",
     "text": [
      "Array before insert:  [2, 3, 5, 7, 10, 15, None, None, None, None]\n",
      "Array after insert:  [1, 2, 3, 5, 7, 10, 15, None, None, None]\n"
     ]
    }
   ],
   "source": [
    "insert_sort(1)"
   ]
  },
  {
   "cell_type": "markdown",
   "metadata": {},
   "source": [
    "**Check if array is sorted**"
   ]
  },
  {
   "cell_type": "code",
   "execution_count": 166,
   "metadata": {},
   "outputs": [
    {
     "data": {
      "text/plain": [
       "True"
      ]
     },
     "execution_count": 166,
     "metadata": {},
     "output_type": "execute_result"
    }
   ],
   "source": [
    "def check_sorted(array, size, length): \n",
    "    for i in range(1, length):\n",
    "        if array[i] < array[i-1]: \n",
    "            return False\n",
    "    return True\n",
    "\n",
    "check_sorted(array, 10, 7)"
   ]
  },
  {
   "cell_type": "markdown",
   "metadata": {},
   "source": [
    "**Rearranging -ve elements to left**"
   ]
  },
  {
   "cell_type": "code",
   "execution_count": 168,
   "metadata": {},
   "outputs": [
    {
     "name": "stdout",
     "output_type": "stream",
     "text": [
      "[-7, -3, -15, 10, 25, 2]\n"
     ]
    }
   ],
   "source": [
    "def rearrange(array, size, length):\n",
    "    i = 0\n",
    "    j = length - 1\n",
    "    while i < j:\n",
    "        while array[i] < 0: i += 1\n",
    "        while array[j] > 0: j -= 1\n",
    "        if i < j:\n",
    "            array[i], array[j] = swap(array[i], array[j])\n",
    "\n",
    "    print(array)\n",
    "\n",
    "rearrange([2,-3,25, 10, -15, -7], 10, 6)"
   ]
  },
  {
   "cell_type": "code",
   "execution_count": 169,
   "metadata": {},
   "outputs": [
    {
     "name": "stdout",
     "output_type": "stream",
     "text": [
      "[-3, -7, -15, 10, 25]\n"
     ]
    }
   ],
   "source": [
    "rearrange([-3,25, 10, -15, -7], 10, 5)"
   ]
  },
  {
   "cell_type": "markdown",
   "metadata": {},
   "source": [
    "Here’s a breakdown of the time complexity:\n",
    "\t\n",
    "\t1.\tOuter while loop: This loop runs while i < j, so in the worst case, it will make a single pass over the array (up to O(n) times).\n",
    "\t\n",
    "\t2.\tInner while loops:\n",
    "\t\n",
    "\t•\tThe first inner while loop (while(A[i] < 0)) increments i as long as A[i] is negative. This will only go over the array elements once in total across all iterations of the outer loop.\n",
    "\t\n",
    "\t•\tThe second inner while loop (while(A[j] >= 0)) decrements j as long as A[j] is non-negative. Similarly, this will also go over the array elements once in total across all iterations.\n",
    "\n",
    "Each element in the array is checked once by either i or j as they move toward each other, so the total work done by all loops is proportional to n.\n",
    "\n",
    "Final Time Complexity - The overall time complexity is O(n), where n is the length of the array."
   ]
  },
  {
   "cell_type": "markdown",
   "metadata": {},
   "source": [
    "**Merging Sorted Arrays**"
   ]
  },
  {
   "cell_type": "code",
   "execution_count": 188,
   "metadata": {},
   "outputs": [],
   "source": [
    "def merge_sort(a,b): \n",
    "    c = [None] * (len(a) + len(b))\n",
    "    i, j, k = 0, 0, 0\n",
    "\n",
    "    while (i < len(a) and j < len(b)):\n",
    "        if a[i] < b[j]:\n",
    "            c[k] = a[i]\n",
    "            i += 1\n",
    "        else:\n",
    "            c[k] = b[j]\n",
    "            j += 1\n",
    "        k += 1\n",
    "\n",
    "    for i in range(i, len(a)):\n",
    "        c[k] = a[i]\n",
    "        k += 1\n",
    "    \n",
    "    for j in range(j, len(b)):\n",
    "        c[k] = b[j]\n",
    "        k += 1\n",
    "\n",
    "    return c"
   ]
  },
  {
   "cell_type": "code",
   "execution_count": 190,
   "metadata": {},
   "outputs": [
    {
     "data": {
      "text/plain": [
       "[2, 3, 4, 6, 7, 10, 15, 18, 20, 25, 30, 32]"
      ]
     },
     "execution_count": 190,
     "metadata": {},
     "output_type": "execute_result"
    }
   ],
   "source": [
    "a = [2,6,10,15,25,30,32]\n",
    "b = [3,4,7,18,20]\n",
    "\n",
    "merge_sort(a, b) # Time Complexity ~ Theta(m + n) - Whenever there is merging, m + n will be in the time complexity"
   ]
  },
  {
   "cell_type": "markdown",
   "metadata": {},
   "source": [
    "**Set Operations**"
   ]
  },
  {
   "cell_type": "code",
   "execution_count": 191,
   "metadata": {},
   "outputs": [],
   "source": [
    "def union_sorted(a, b):\n",
    "    c = [None] * (len(a) + len(b))\n",
    "    i, j, k = 0, 0, 0\n",
    "\n",
    "    while (i < len(a) and j < len(b)):\n",
    "        if a[i] < b[j]:\n",
    "            c[k] = a[i]\n",
    "            i += 1\n",
    "        elif a[i] > b[j]:\n",
    "            c[k] = b[j]\n",
    "            j += 1\n",
    "        else:\n",
    "            c[k] = a[i]\n",
    "            i += 1\n",
    "            j += 1\n",
    "        k += 1\n",
    "    \n",
    "    for i in range(i, len(a)):\n",
    "        c[k] = a[i]\n",
    "        k += 1\n",
    "    \n",
    "    for j in range(j, len(b)):\n",
    "        c[k] = b[j]\n",
    "        k += 1\n",
    "\n",
    "    return c"
   ]
  },
  {
   "cell_type": "code",
   "execution_count": 197,
   "metadata": {},
   "outputs": [],
   "source": [
    "def intersection_sorted(a, b):\n",
    "    c = [None] * (len(a) + len(b))\n",
    "    i, j, k = 0, 0, 0\n",
    "\n",
    "    while (i < len(a) and j < len(b)):\n",
    "        if a[i] < b[j]:\n",
    "            i += 1\n",
    "        elif a[i] > b[j]:\n",
    "            j += 1\n",
    "        else:\n",
    "            c[k] = a[i]\n",
    "            i += 1\n",
    "            j += 1\n",
    "            k += 1\n",
    "\n",
    "    return c"
   ]
  },
  {
   "cell_type": "code",
   "execution_count": 204,
   "metadata": {},
   "outputs": [],
   "source": [
    "def difference_sorted(a, b):\n",
    "    c = [None] * (len(a) + len(b))\n",
    "    i, j, k = 0, 0, 0\n",
    "\n",
    "    while (i < len(a) and j < len(b)):\n",
    "        if a[i] < b[j]:\n",
    "            c[k] = a[i]\n",
    "            i += 1\n",
    "            k += 1\n",
    "        elif a[i] > b[j]:\n",
    "            j += 1\n",
    "        else:\n",
    "            i += 1\n",
    "            j += 1\n",
    "    \n",
    "    for i in range(i, len(a)):\n",
    "        c[k] = a[i]\n",
    "        k += 1\n",
    "    \n",
    "    return c"
   ]
  },
  {
   "cell_type": "code",
   "execution_count": 205,
   "metadata": {},
   "outputs": [
    {
     "name": "stdout",
     "output_type": "stream",
     "text": [
      "[2, 3, 6, 7, 10, 15, 20, 25, None, None]\n",
      "[6, 15, None, None, None, None, None, None, None, None]\n",
      "[2, 10, 25, None, None, None, None, None, None, None]\n"
     ]
    }
   ],
   "source": [
    "a = [2,6,10,15,25]\n",
    "b =[3,6,7,15,20]\n",
    "print(union_sorted(a,b))\n",
    "print(intersection_sorted(a, b))\n",
    "print(difference_sorted(a,b))"
   ]
  },
  {
   "cell_type": "code",
   "execution_count": null,
   "metadata": {},
   "outputs": [],
   "source": []
  }
 ],
 "metadata": {
  "kernelspec": {
   "display_name": "Python 3",
   "language": "python",
   "name": "python3"
  },
  "language_info": {
   "codemirror_mode": {
    "name": "ipython",
    "version": 3
   },
   "file_extension": ".py",
   "mimetype": "text/x-python",
   "name": "python",
   "nbconvert_exporter": "python",
   "pygments_lexer": "ipython3",
   "version": "3.9.6"
  },
  "orig_nbformat": 4
 },
 "nbformat": 4,
 "nbformat_minor": 2
}
