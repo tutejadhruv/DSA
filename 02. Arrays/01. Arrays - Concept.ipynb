{
 "cells": [
  {
   "cell_type": "markdown",
   "metadata": {},
   "source": [
    "### Basic Array Conceptsm"
   ]
  },
  {
   "cell_type": "code",
   "execution_count": 2,
   "metadata": {},
   "outputs": [],
   "source": [
    "x = [2, 5, 4, 9, 8]"
   ]
  },
  {
   "cell_type": "code",
   "execution_count": 4,
   "metadata": {},
   "outputs": [
    {
     "data": {
      "text/plain": [
       "4"
      ]
     },
     "execution_count": 4,
     "metadata": {},
     "output_type": "execute_result"
    }
   ],
   "source": [
    "x[2]"
   ]
  },
  {
   "cell_type": "code",
   "execution_count": 6,
   "metadata": {},
   "outputs": [
    {
     "name": "stdout",
     "output_type": "stream",
     "text": [
      "2\n",
      "5\n",
      "4\n",
      "9\n",
      "8\n"
     ]
    }
   ],
   "source": [
    "for i in range(len(x)):\n",
    "    print(x[i])"
   ]
  },
  {
   "attachments": {},
   "cell_type": "markdown",
   "metadata": {},
   "source": [
    "#### Heap as a Memory Management Area\n",
    "In the context of memory management, the heap refers to a region of a process's memory where dynamic memory allocation takes place. When you allocate memory for variables or data structures at runtime (e.g., using malloc in C or new in C++), that memory is typically allocated from the heap.\n",
    "\n",
    "Characteristics of the heap memory area:\n",
    "\n",
    "1. Dynamic Size: Unlike stack memory, which is fixed in size, the heap can grow and shrink as needed.\n",
    "\n",
    "2. Manual Management: Memory on the heap needs to be manually allocated and freed (though in languages like Python, garbage collection handles freeing memory).\n",
    "\n",
    "3. Global Accessibility: Memory allocated on the heap is accessible from anywhere in the program as long as you have a reference to it.\n",
    "\n",
    "Understanding both contexts is essential for topics like algorithm design and memory management in programming.\n",
    "\n",
    "In Python, memory for lists (and other objects) is primarily allocated on the heap.\n",
    "\n",
    "Here’s how it works:\n",
    "\n",
    "1. Heap Memory: When you create a list, Python allocates memory for the list's object itself on the heap. This includes space for the list structure, which contains references to the elements stored in the list.\n",
    "\n",
    "2. Element Storage: The elements within the list, which can be of different types, are also stored on the heap. Each element is a reference to the actual object, meaning that the objects themselves (like integers, strings, or even other lists) are dynamically allocated in heap memory.\n",
    "\n",
    "3. Stack Memory: The stack is typically used for storing function call information, local variables, and other temporary data. Local variables that reference lists are stored on the stack, but the lists themselves reside in the heap.\n",
    "\n",
    "This heap allocation allows Python lists to be flexible in size and capable of storing a mix of object types, as they can grow and shrink dynamically during the program's execution.\n",
    "\n",
    "\n",
    "\n"
   ]
  },
  {
   "attachments": {},
   "cell_type": "markdown",
   "metadata": {},
   "source": [
    "#### How does append function work in python?\n",
    "\n",
    "When you append a new element to a Python list, several things happen under the hood in memory management:\n",
    "\n",
    "1. Check Capacity: Python lists are implemented as dynamic arrays. When you append an element, Python first checks if there is enough capacity in the existing array to accommodate the new element.\n",
    "\n",
    "2. Allocate Memory (if necessary):\n",
    "\n",
    "        If there is enough space in the current array, the new element is added directly to the next available position.\n",
    "        If the current array is full, Python allocates a larger block of memory to accommodate additional elements. This typically involves creating a new array with a size larger than the current one (usually about 1.5 times the current size to optimize for future appends).\n",
    "3. Copy Existing Elements: If a new array is allocated, Python copies the existing elements from the old array to the new array.\n",
    "\n",
    "4. Add the New Element: Once the old elements are copied (or if there was enough space, directly), the new element is added to the next available position in the array.\n",
    "\n",
    "5. Update References: Finally, Python updates the reference to the array so that subsequent operations point to the new array if it was resized.\n",
    "\n",
    "6. Memory Management: The old array memory (if it was resized) will eventually be freed by Python’s garbage collector if there are no more references to it.\n",
    "\n",
    "This process allows Python lists to maintain dynamic sizing while managing memory efficiently. However, because of the potential resizing, appending elements can sometimes have a time complexity of O(1) on average, but it can be O(n) in cases where a resize is necessary."
   ]
  },
  {
   "attachments": {},
   "cell_type": "markdown",
   "metadata": {},
   "source": [
    "#### What is the advantage/ disadvantage of using heap over stack?\n",
    "\n",
    "Using heap memory has several advantages over stack memory, particularly in certain programming scenarios. Here are some key benefits:\n",
    "\n",
    "1. **Dynamic Size**: \n",
    "   - **Heap**: Memory allocated on the heap can grow or shrink during runtime, allowing for flexible data structures (like linked lists, trees, etc.) that are not constrained by a predefined size.\n",
    "   - **Stack**: Memory on the stack is fixed in size, which limits the amount of data you can store. If you exceed this size, you may encounter a stack overflow.\n",
    "\n",
    "2. **Lifetime Management**:\n",
    "   - **Heap**: Objects in heap memory remain allocated until they are explicitly deallocated or the program ends. This allows for data to persist beyond the scope of the function that created it, making it useful for long-lived objects.\n",
    "   - **Stack**: Objects on the stack are automatically deallocated when the function call returns. This is less flexible if you need data to persist longer.\n",
    "\n",
    "3. **Global Accessibility**:\n",
    "   - **Heap**: Data allocated on the heap can be accessed from anywhere in the program as long as you have a reference to it. This is beneficial for sharing data across different parts of a program or between functions.\n",
    "   - **Stack**: Data on the stack is typically only accessible within the function where it was created, which can be limiting.\n",
    "\n",
    "4. **Complex Data Structures**:\n",
    "   - **Heap**: The heap is suitable for complex data structures that require dynamic memory allocation and resizing, such as dynamic arrays, linked lists, and trees.\n",
    "   - **Stack**: The stack is more suited for simpler, fixed-size data structures.\n",
    "\n",
    "5. **No Size Limitation (within system limits)**:\n",
    "   - **Heap**: The only limitation on heap memory is the total memory available on the system. This makes it suitable for large data allocations.\n",
    "   - **Stack**: Stack size is usually limited (often determined by the operating system), which can constrain the amount of data you can work with.\n",
    "\n",
    "**Trade-offs**\n",
    "\n",
    "While heap memory has these advantages, it also comes with some downsides:\n",
    "\n",
    "- **Performance Overhead**: Allocating and deallocating memory on the heap is generally slower than stack memory due to the need for bookkeeping and potential fragmentation.\n",
    "- **Memory Management**: Developers need to manage memory explicitly (in languages like C or C++) or rely on garbage collection (in languages like Python) to prevent memory leaks.\n",
    "\n",
    "In summary, the choice between heap and stack memory depends on the specific requirements of your application, including the size, lifetime, and complexity of the data you're working with."
   ]
  },
  {
   "cell_type": "code",
   "execution_count": 9,
   "metadata": {},
   "outputs": [
    {
     "name": "stdout",
     "output_type": "stream",
     "text": [
      "1\n",
      "2\n",
      "3\n",
      "4\n",
      "2\n",
      "4\n",
      "6\n",
      "8\n",
      "3\n",
      "5\n",
      "7\n",
      "9\n"
     ]
    }
   ],
   "source": [
    "# 2D-Array\n",
    "x = [[1,2,3,4], [2,4,6,8], [3,5,7,9]]\n",
    "for i in range(len(x)):\n",
    "    for j in range(len(x[i])):\n",
    "        print(x[i][j])"
   ]
  },
  {
   "cell_type": "code",
   "execution_count": null,
   "metadata": {},
   "outputs": [],
   "source": []
  }
 ],
 "metadata": {
  "kernelspec": {
   "display_name": "base",
   "language": "python",
   "name": "python3"
  },
  "language_info": {
   "codemirror_mode": {
    "name": "ipython",
    "version": 3
   },
   "file_extension": ".py",
   "mimetype": "text/x-python",
   "name": "python",
   "nbconvert_exporter": "python",
   "pygments_lexer": "ipython3",
   "version": "3.8.5"
  },
  "orig_nbformat": 4,
  "vscode": {
   "interpreter": {
    "hash": "cb94d9371c128d4fcd1f89dcedd0a870db065db047cd8267a446850138ea7f96"
   }
  }
 },
 "nbformat": 4,
 "nbformat_minor": 2
}
