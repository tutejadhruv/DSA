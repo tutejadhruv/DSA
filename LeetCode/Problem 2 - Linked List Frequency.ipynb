{
 "cells": [
  {
   "cell_type": "markdown",
   "metadata": {},
   "source": [
    "### Linked List Frequency\n",
    "Link: https://leetcode.com/problems/linked-list-frequency/description/"
   ]
  },
  {
   "cell_type": "code",
   "execution_count": 1,
   "metadata": {},
   "outputs": [],
   "source": [
    "from typing import Optional"
   ]
  },
  {
   "cell_type": "code",
   "execution_count": 2,
   "metadata": {},
   "outputs": [],
   "source": [
    "class ListNode:\n",
    "    def __init__(self, val=0, next=None):\n",
    "        self.val = val\n",
    "        self.next = next\n",
    "\n",
    "def frequenciesOfElements(head: Optional[ListNode]) -> Optional[ListNode]:\n",
    "        hash_map = {}\n",
    "        while head:\n",
    "            if head.val in hash_map:\n",
    "                hash_map[head.val] += 1\n",
    "            else:\n",
    "                hash_map[head.val] = 1\n",
    "            head = head.next\n",
    "        \n",
    "        first_key = next(iter(hash_map))\n",
    "        first = ListNode(hash_map[first_key])\n",
    "        hash_map.pop(first_key)\n",
    "        p = first\n",
    "\n",
    "        for i in hash_map.values():\n",
    "            y = ListNode(i)\n",
    "            p.next = y\n",
    "            p = p.next\n",
    "\n",
    "        return first"
   ]
  },
  {
   "cell_type": "markdown",
   "metadata": {},
   "source": [
    "**Step 1: Traverse the linked list**\n",
    "You're iterating through the linked list once to build the frequency map (hash_map).\n",
    "\n",
    "Time complexity: O(n), where n is the number of nodes in the linked list."
   ]
  },
  {
   "cell_type": "markdown",
   "metadata": {},
   "source": [
    "\n",
    "**Step 2: Construct a new linked list from hash_map.values()**\n",
    "The number of keys in hash_map is at most n (if all elements are unique).\n",
    "\n",
    "So iterating over hash_map.values() takes O(k), where k is the number of unique elements (k <= n).\n",
    "\n",
    "Creating a new linked list from k items also takes O(k).\n"
   ]
  },
  {
   "cell_type": "markdown",
   "metadata": {},
   "source": [
    "**Total Time Complexity**\n",
    "Step 1: O(n)\n",
    "\n",
    "Step 2: O(k) ⊆ O(n)\n",
    "\n",
    "✅ Final Time Complexity: O(n)\n",
    "\n",
    "Where n is the number of nodes in the original linked list.\n"
   ]
  },
  {
   "cell_type": "markdown",
   "metadata": {},
   "source": [
    "**Clarifying O(n + k) vs O(n)**\n",
    "You're absolutely right that:\n",
    "\n",
    "Traversing the linked list takes O(n).\n",
    "\n",
    "Creating the new linked list from k unique elements takes O(k).\n",
    "\n",
    "So technically, the time complexity is:\n",
    "\n",
    "O(n + k)\n",
    "\n",
    "However, since k ≤ n (you can't have more unique elements than the total number of elements in the list), k is bounded by n. So in Big-O notation, we often simplify:\n",
    "\n",
    "O(n + k) → O(n)\n",
    "\n",
    "This is a standard simplification when one variable is asymptotically bounded by another."
   ]
  },
  {
   "cell_type": "markdown",
   "metadata": {},
   "source": [
    "**When would you keep O(n + k)?**\n",
    "You’d write O(n + k) if:\n",
    "\n",
    "You want to explicitly distinguish the work on the full list (n) from the work on unique elements (k).\n",
    "\n",
    "Or if you're analyzing performance in a multi-step pipeline or context where k ≪ n or k ≫ n could matter independently."
   ]
  }
 ],
 "metadata": {
  "kernelspec": {
   "display_name": "Python 3",
   "language": "python",
   "name": "python3"
  },
  "language_info": {
   "codemirror_mode": {
    "name": "ipython",
    "version": 3
   },
   "file_extension": ".py",
   "mimetype": "text/x-python",
   "name": "python",
   "nbconvert_exporter": "python",
   "pygments_lexer": "ipython3",
   "version": "3.9.6"
  }
 },
 "nbformat": 4,
 "nbformat_minor": 2
}
